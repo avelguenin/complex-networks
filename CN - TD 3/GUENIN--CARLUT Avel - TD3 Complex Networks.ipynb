{
 "cells": [
  {
   "cell_type": "markdown",
   "metadata": {},
   "source": [
    "# Complex Networks - TD 3\n",
    "\n",
    "## Avel GUÉNIN--CARLUT\n",
    "## 04/12/2018"
   ]
  },
  {
   "cell_type": "code",
   "execution_count": 1,
   "metadata": {
    "collapsed": true
   },
   "outputs": [],
   "source": [
    "import networkx as nx\n",
    "import random as rd\n",
    "import numpy as np\n",
    "import math\n",
    "import matplotlib.pyplot as plt\n",
    "import copy"
   ]
  },
  {
   "cell_type": "markdown",
   "metadata": {
    "collapsed": true
   },
   "source": [
    "## I - The Watts-Strogatz random graph model"
   ]
  },
  {
   "cell_type": "markdown",
   "metadata": {},
   "source": [
    "We will first build a Watts-Strogatz model from scratch, then demonstrate its scale free and small world properties in two separate parts."
   ]
  },
  {
   "cell_type": "markdown",
   "metadata": {},
   "source": [
    "### I.1 - Graph construction"
   ]
  },
  {
   "cell_type": "code",
   "execution_count": 2,
   "metadata": {
    "collapsed": true
   },
   "outputs": [],
   "source": [
    "def build_WattsStrogatz(N,half_k,beta):\n",
    "    \n",
    "    ## implementing 2*half_k-uniform ring graph\n",
    "    G = nx.Graph()\n",
    "    for i in range(N):\n",
    "        G.add_node(i)\n",
    "    for i in range(N):\n",
    "        for j in range(half_k):\n",
    "            G.add_edge(i,(i+j+1)%N)\n",
    "            \n",
    "\n",
    "    ## picking edges for rewiring with probability beta\n",
    "    rewires = []\n",
    "    for edge in G.edges():\n",
    "        if rd.random() < beta:\n",
    "            rewires.append(edge)\n",
    "\n",
    "            \n",
    "    ## adding new links\n",
    "    for edge in rewires:\n",
    "        \n",
    "        ## picking origin node\n",
    "        if (edge[1]-edge[0]) < half_k + 1 : \n",
    "            ## if edge[1] is half_k or less after edge[0] it is edge[0] where the edge originated\n",
    "            origin_node = edge[0]\n",
    "        elif (edge[0]-edge[1]+N) < half_k + 1 : \n",
    "            ## otherwise, edge must have been originated from edge[1] and edge[1]-N is half_k or less before edge[0]\n",
    "            origin_node = edge[1]\n",
    "        \n",
    "        ## link origin node to new neighbor\n",
    "        candidate_nodes = [n for n in G.node() if (not(i==n) and not(n in G.neighbors(i)))]\n",
    "        G.add_edge(origin_node,rd.choice(candidate_nodes))\n",
    "\n",
    "        \n",
    "    ## removing old links  \n",
    "    for edge in rewires:\n",
    "        G.remove_edge(edge[0],edge[1])\n",
    "\n",
    "        \n",
    "    return(G)"
   ]
  },
  {
   "cell_type": "markdown",
   "metadata": {},
   "source": [
    "### I.2 - Clustering propertiy"
   ]
  },
  {
   "cell_type": "code",
   "execution_count": 8,
   "metadata": {},
   "outputs": [
    {
     "name": "stdout",
     "output_type": "stream",
     "text": [
      "En cours : beta = 1.0\n",
      "En cours : beta = 0.818730753078\n",
      "En cours : beta = 0.670320046036\n",
      "En cours : beta = 0.548811636094\n",
      "En cours : beta = 0.449328964117\n",
      "En cours : beta = 0.367879441171\n",
      "En cours : beta = 0.301194211912\n",
      "En cours : beta = 0.246596963942\n",
      "En cours : beta = 0.201896517995\n",
      "En cours : beta = 0.165298888222\n",
      "En cours : beta = 0.135335283237\n",
      "En cours : beta = 0.110803158362\n",
      "En cours : beta = 0.0907179532894\n",
      "En cours : beta = 0.0742735782143\n",
      "En cours : beta = 0.0608100626252\n",
      "En cours : beta = 0.0497870683679\n",
      "En cours : beta = 0.0407622039784\n",
      "En cours : beta = 0.0333732699603\n",
      "En cours : beta = 0.0273237224473\n",
      "En cours : beta = 0.0223707718562\n",
      "En cours : beta = 0.0183156388887\n",
      "En cours : beta = 0.0149955768205\n",
      "En cours : beta = 0.0122773399031\n",
      "En cours : beta = 0.0100518357446\n",
      "En cours : beta = 0.00822974704902\n",
      "En cours : beta = 0.00673794699909\n",
      "En cours : beta = 0.00551656442076\n",
      "En cours : beta = 0.00451658094261\n",
      "En cours : beta = 0.00369786371648\n",
      "En cours : beta = 0.00302755474538\n",
      "En cours : beta = 0.00247875217667\n"
     ]
    }
   ],
   "source": [
    "beta_range = [np.exp(-x/5) for x in range(0,31)]\n",
    "N = 300\n",
    "half_k = 3\n",
    "\n",
    "I = 5\n",
    "\n",
    "clustering_plot = []\n",
    "mean_distance_plot = []\n",
    "\n",
    "## clustering and diameter are computed for different values of beta and averaged over I iterations\n",
    "for beta in beta_range:\n",
    "    print(\"En cours : beta = \" + str(beta))\n",
    "    clustering = []\n",
    "    mean_distance = []\n",
    "    for i in range(I):\n",
    "        G = build_WattsStrogatz(N,half_k,beta)\n",
    "        clustering.append(nx.average_clustering(G))\n",
    "        mean_distance.append(nx.average_shortest_path_length(G))\n",
    "    clustering_plot.append(np.mean(clustering))\n",
    "    mean_distance_plot.append(np.mean(mean_distance))"
   ]
  },
  {
   "cell_type": "code",
   "execution_count": 9,
   "metadata": {},
   "outputs": [
    {
     "data": {
      "image/png": "[encoded data removed]",
      "text/plain": [
       "<Figure size 432x288 with 1 Axes>"
      ]
     },
     "metadata": {},
     "output_type": "display_data"
    }
   ],
   "source": [
    "plt.semilogx(beta_range,clustering_plot/max(clustering_plot),label=\"normalised mean clustering coefficient\")\n",
    "plt.semilogx(beta_range,mean_distance_plot/max(mean_distance_plot),label=\"normalised mean shortest path\")\n",
    "\n",
    "plt.xlabel(\"beta\")\n",
    "plt.legend()\n",
    "plt.show()"
   ]
  },
  {
   "cell_type": "markdown",
   "metadata": {},
   "source": [
    "As you can see above, both clustering coefficient and mean distance drop as beta grows.\n",
    "\n",
    "However, as mean distance drops faster than clustering coefficient, there is a beta range where clustering remains high (comparably to the ring network limit) while mean distance is low (comparably to the ER limit). With our parameters, it is 0.03 to 0.3.\n",
    "\n",
    "Hence, WS networks account for both clustering and short mean distances for specific beta ranges."
   ]
  },
  {
   "cell_type": "markdown",
   "metadata": {},
   "source": [
    "### I.3 - Small world property"
   ]
  },
  {
   "cell_type": "code",
   "execution_count": 6,
   "metadata": {},
   "outputs": [
    {
     "name": "stdout",
     "output_type": "stream",
     "text": [
      "En cours : beta = 1.0\n",
      "N = 28\n",
      "N = 39\n",
      "N = 54\n",
      "N = 76\n",
      "N = 106\n",
      "N = 148\n",
      "N = 207\n",
      "N = 289\n",
      "N = 403\n",
      "N = 563\n",
      "N = 785\n",
      "N = 1096\n",
      "En cours : beta = 0.606530659713\n",
      "N = 28\n",
      "N = 39\n",
      "N = 54\n",
      "N = 76\n",
      "N = 106\n",
      "N = 148\n",
      "N = 207\n",
      "N = 289\n",
      "N = 403\n",
      "N = 563\n",
      "N = 785\n",
      "N = 1096\n",
      "En cours : beta = 0.367879441171\n",
      "N = 28\n",
      "N = 39\n",
      "N = 54\n",
      "N = 76\n",
      "N = 106\n",
      "N = 148\n",
      "N = 207\n",
      "N = 289\n",
      "N = 403\n",
      "N = 563\n",
      "N = 785\n",
      "N = 1096\n",
      "En cours : beta = 0.223130160148\n",
      "N = 28\n",
      "N = 39\n",
      "N = 54\n",
      "N = 76\n",
      "N = 106\n",
      "N = 148\n",
      "N = 207\n",
      "N = 289\n",
      "N = 403\n",
      "N = 563\n",
      "N = 785\n",
      "N = 1096\n",
      "En cours : beta = 0.135335283237\n",
      "N = 28\n",
      "N = 39\n",
      "N = 54\n",
      "N = 76\n",
      "N = 106\n",
      "N = 148\n",
      "N = 207\n",
      "N = 289\n",
      "N = 403\n",
      "N = 563\n",
      "N = 785\n",
      "N = 1096\n",
      "En cours : beta = 0.0820849986239\n",
      "N = 28\n",
      "N = 39\n",
      "N = 54\n",
      "N = 76\n",
      "N = 106\n",
      "N = 148\n",
      "N = 207\n",
      "N = 289\n",
      "N = 403\n",
      "N = 563\n",
      "N = 785\n",
      "N = 1096\n",
      "En cours : beta = 0.0497870683679\n",
      "N = 28\n",
      "N = 39\n",
      "N = 54\n",
      "N = 76\n",
      "N = 106\n",
      "N = 148\n",
      "N = 207\n",
      "N = 289\n",
      "N = 403\n",
      "N = 563\n",
      "N = 785\n",
      "N = 1096\n"
     ]
    }
   ],
   "source": [
    "beta_range = [np.exp(-x/2) for x in range(0,7)]\n",
    "N_range = [int(np.floor(np.exp(x/3))) for x in range (10,22)]\n",
    "half_k = 3\n",
    "\n",
    "I = 3\n",
    "\n",
    "clustering_plots = dict()\n",
    "mean_distance_plots = dict()\n",
    "for beta in beta_range:\n",
    "    print(\"En cours : beta = \" + str(beta))\n",
    "    clustering_plots[beta] = []\n",
    "    mean_distance_plots[beta] = []\n",
    "    for N in N_range:\n",
    "        print(\"N = \" + str(N))\n",
    "        clustering = []\n",
    "        mean_distance =  []\n",
    "        for i in range(I):\n",
    "            G = build_WattsStrogatz(N,half_k,beta)\n",
    "            clustering.append(nx.average_clustering(G))\n",
    "            mean_distance.append(nx.average_shortest_path_length(G))\n",
    "        clustering_plots[beta].append(np.mean(clustering))\n",
    "        mean_distance_plots[beta].append(np.mean(mean_distance))"
   ]
  },
  {
   "cell_type": "code",
   "execution_count": 7,
   "metadata": {},
   "outputs": [
    {
     "data": {
      "image/png": "[encoded data removed]",
      "text/plain": [
       "<Figure size 432x288 with 1 Axes>"
      ]
     },
     "metadata": {},
     "output_type": "display_data"
    }
   ],
   "source": [
    "for beta in beta_range:\n",
    "    plot = [mean_distance_plots[beta][i]/np.log(N_range[i]) for i in range(len(N_range))]\n",
    "    plt.plot(N_range,plot,label = \"beta = \" + str(beta))\n",
    "\n",
    "plt.legend()\n",
    "plt.ylabel(\"Mean distance over log graph size\")\n",
    "plt.xlabel(\"Graph size\")\n",
    "plt.show()\n",
    "\n"
   ]
  },
  {
   "cell_type": "markdown",
   "metadata": {},
   "source": [
    "We can observe above that, for all tested beta (superior to 0), mean distance growth is capped by log graph size. Lower beta lead to higher constants, and slower convergence to the asymptote. The result seem however to be robust.\n",
    "\n",
    "Hence, WS networks do not only show lower mean distances as compared to the pure ring network limit, they do show small world property. They notably do so in the range beta < 0.2 where the clustering coefficient is high."
   ]
  },
  {
   "cell_type": "markdown",
   "metadata": {
    "collapsed": true
   },
   "source": [
    "## II - The Barabási-Albert Model"
   ]
  },
  {
   "cell_type": "markdown",
   "metadata": {},
   "source": [
    "We will first build a Barabàsi-Albert model from scratch, then demonstrate its scale free and small world properties in two separate parts."
   ]
  },
  {
   "cell_type": "markdown",
   "metadata": {},
   "source": [
    "### II.1 - Graph construction"
   ]
  },
  {
   "cell_type": "code",
   "execution_count": 87,
   "metadata": {
    "collapsed": true
   },
   "outputs": [],
   "source": [
    "def build_BarabasiAlbert(N,m):\n",
    "    \n",
    "    ## build connected starting graph\n",
    "    G = nx.Graph()\n",
    "    for k in range(m):\n",
    "        G.add_node(k)\n",
    "    while not(nx.is_connected(G)):\n",
    "        edge = rd.sample(G.nodes(),2)\n",
    "        G.add_edge(edge[0],edge[1])\n",
    "    \n",
    "    \n",
    "    \n",
    "    ## add nodes with preferential attachment\n",
    "    for i in range(m,N):\n",
    "        ## define probability distribution for new links\n",
    "        relative_degree = [G.degree(j) for j in G.nodes()]\n",
    "        relative_degree = [k/sum(relative_degree) for k in relative_degree]\n",
    "        \n",
    "        ## choose neighbours of incoming nodes\n",
    "        link_choice = np.random.choice(G.nodes, size=m, replace=False, p=relative_degree) ## rd has no draw without replacement\n",
    "        \n",
    "        ## add node\n",
    "        G.add_node(i)\n",
    "        for v in link_choice:\n",
    "            G.add_edge(v,i)\n",
    "               \n",
    "    return(G)"
   ]
  },
  {
   "cell_type": "markdown",
   "metadata": {},
   "source": [
    "### II.2 - Scale-free property"
   ]
  },
  {
   "cell_type": "code",
   "execution_count": 100,
   "metadata": {
    "collapsed": true
   },
   "outputs": [],
   "source": [
    "N = 1000\n",
    "m = 10\n",
    "I = 30\n",
    "\n",
    "degree_sequence = []\n",
    "for i in range(I):\n",
    "    G = build_BarabasiAlbert(N,m)\n",
    "    degree_sequence += [d for n, d in G.degree()]"
   ]
  },
  {
   "cell_type": "code",
   "execution_count": 116,
   "metadata": {},
   "outputs": [
    {
     "name": "stderr",
     "output_type": "stream",
     "text": [
      "No handles with labels found to put in legend.\n"
     ]
    },
    {
     "data": {
      "image/png": "[encoded data removed]",
      "text/plain": [
       "<Figure size 432x288 with 1 Axes>"
      ]
     },
     "metadata": {},
     "output_type": "display_data"
    }
   ],
   "source": [
    "k_range = range(max(degree_sequence) + 2)\n",
    "plot = []\n",
    "for k in k_range:\n",
    "    plot.append(degree_sequence.count(k))\n",
    "\n",
    "plt.loglog(k_range,plot)\n",
    "plt.xlabel(\"Degree\")\n",
    "plt.ylabel(\"Count\")\n",
    "plt.title(\"Log number of log degree nodes in BA graph with size N = \" + str(N) + \" ; m = \" + str(m))\n",
    "plt.legend()\n",
    "plt.show()"
   ]
  },
  {
   "cell_type": "markdown",
   "metadata": {
    "collapsed": true
   },
   "source": [
    "We can notice that the degree-rank histogramm draws a line in log log scale (even though it is irregular for high degree values), showing that it follows a power law asymptotically, and therefore that the BA network is scale-free.\n",
    "\n",
    "While not shown here, this broad result does not change for varying graph size (N) and entry degree (m)."
   ]
  },
  {
   "cell_type": "markdown",
   "metadata": {},
   "source": [
    "### II.3 - Small world property"
   ]
  },
  {
   "cell_type": "code",
   "execution_count": 124,
   "metadata": {},
   "outputs": [
    {
     "name": "stdout",
     "output_type": "stream",
     "text": [
      "En cours : m = 2\n",
      "N = 28\n",
      "N = 39\n",
      "N = 54\n",
      "N = 76\n",
      "N = 106\n",
      "N = 148\n",
      "N = 207\n",
      "N = 289\n",
      "N = 403\n",
      "N = 563\n",
      "N = 785\n",
      "N = 1096\n",
      "En cours : m = 4\n",
      "N = 28\n",
      "N = 39\n",
      "N = 54\n",
      "N = 76\n",
      "N = 106\n",
      "N = 148\n",
      "N = 207\n",
      "N = 289\n",
      "N = 403\n",
      "N = 563\n",
      "N = 785\n",
      "N = 1096\n",
      "En cours : m = 6\n",
      "N = 28\n",
      "N = 39\n",
      "N = 54\n",
      "N = 76\n",
      "N = 106\n",
      "N = 148\n",
      "N = 207\n",
      "N = 289\n",
      "N = 403\n",
      "N = 563\n",
      "N = 785\n",
      "N = 1096\n",
      "En cours : m = 8\n",
      "N = 28\n",
      "N = 39\n",
      "N = 54\n",
      "N = 76\n",
      "N = 106\n",
      "N = 148\n",
      "N = 207\n",
      "N = 289\n",
      "N = 403\n",
      "N = 563\n",
      "N = 785\n",
      "N = 1096\n"
     ]
    }
   ],
   "source": [
    "N_range = [int(np.floor(np.exp(x/3))) for x in range (10,22)]\n",
    "m_range = [v * 2 for v in range(1,5)]\n",
    "\n",
    "I = 5\n",
    "\n",
    "clustering_plots = dict()\n",
    "mean_distance_plots = dict()\n",
    "for m in m_range:\n",
    "    print(\"En cours : m = \" + str(m))\n",
    "    clustering_plots[m] = []\n",
    "    mean_distance_plots[m] = []\n",
    "    for N in N_range:\n",
    "        print(\"N = \" + str(N))\n",
    "        clustering = []\n",
    "        mean_distance =  []\n",
    "        for i in range(I):\n",
    "            G = build_BarabasiAlbert(N,m)\n",
    "            clustering.append(nx.average_clustering(G))\n",
    "            mean_distance.append(nx.average_shortest_path_length(G))\n",
    "        clustering_plots[m].append(np.mean(clustering))\n",
    "        mean_distance_plots[m].append(np.mean(mean_distance))"
   ]
  },
  {
   "cell_type": "code",
   "execution_count": 125,
   "metadata": {},
   "outputs": [
    {
     "data": {
      "image/png": "[encoded data removed]",
      "text/plain": [
       "<Figure size 432x288 with 1 Axes>"
      ]
     },
     "metadata": {},
     "output_type": "display_data"
    }
   ],
   "source": [
    "for m in m_range:\n",
    "    plot = [mean_distance_plots[m][i]/np.log(N_range[i]) for i in range(len(N_range))]\n",
    "    plt.plot(N_range,plot,label = \"m = \" + str(m))\n",
    "\n",
    "plt.legend()\n",
    "plt.ylabel(\"Mean distance over log graph size\")\n",
    "plt.xlabel(\"Graph size\")\n",
    "plt.show()\n",
    "\n"
   ]
  },
  {
   "cell_type": "markdown",
   "metadata": {},
   "source": [
    "While my hardware forbids me to push my analysis further, mean distance seems to grow slightly slower than log graph size, proving small world property for Barabàsi-Albert graphs.\n",
    "\n",
    "This result should be stable with changing entry degree value, as it is due to the presence of hubs in the graph, which is inherent to the preferential attachment mechanism. It is indeed verified for an array of m values, with predictibly lower constants as m grows."
   ]
  }
 ],
 "metadata": {
  "kernelspec": {
   "display_name": "Python 3",
   "language": "python",
   "name": "python3"
  },
  "language_info": {
   "codemirror_mode": {
    "name": "ipython",
    "version": 3
   },
   "file_extension": ".py",
   "mimetype": "text/x-python",
   "name": "python",
   "nbconvert_exporter": "python",
   "pygments_lexer": "ipython3",
   "version": "3.6.1"
  }
 },
 "nbformat": 4,
 "nbformat_minor": 2
}
