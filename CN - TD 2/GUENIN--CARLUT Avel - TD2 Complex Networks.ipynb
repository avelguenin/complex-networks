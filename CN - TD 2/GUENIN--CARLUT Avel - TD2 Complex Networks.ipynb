{
 "cells": [
  {
   "cell_type": "markdown",
   "metadata": {},
   "source": [
    "# Complex Networks - TD 2\n",
    "\n",
    "## Avel GUÉNIN--CARLUT\n",
    "## 20/11/2018"
   ]
  },
  {
   "cell_type": "code",
   "execution_count": 1,
   "metadata": {
    "collapsed": true
   },
   "outputs": [],
   "source": [
    "import networkx as nx\n",
    "import random as rd\n",
    "import numpy as np\n",
    "import math\n",
    "import matplotlib.pyplot as plt\n",
    "import copy"
   ]
  },
  {
   "cell_type": "markdown",
   "metadata": {
    "collapsed": true
   },
   "source": [
    "## I - The Erdös-Rényi random graph model"
   ]
  },
  {
   "cell_type": "markdown",
   "metadata": {},
   "source": [
    "Below, we will generate and analyse ER - type random graphs. This category of graphs, initially invented for building probabilistic demonstrations of mathematical properties of networks, happen to be the maximal entropy networks for a given number of nodes and edges, hence a central role in complex networks theory."
   ]
  },
  {
   "cell_type": "markdown",
   "metadata": {},
   "source": [
    "### I.1 - Generating ER graphs"
   ]
  },
  {
   "cell_type": "code",
   "execution_count": 2,
   "metadata": {
    "collapsed": true
   },
   "outputs": [],
   "source": [
    "def er_np (n,p) :\n",
    "    \n",
    "    ## check variables\n",
    "    if not (type(n) == int):\n",
    "        print(\"Improper variable type : n is not an integer !\")\n",
    "        return()\n",
    "    if n < 0 :\n",
    "        print(\"Improper nodes number : n is negative\")\n",
    "        return()\n",
    "    if (0>p) or (p>1) :\n",
    "        print(\"Improper edge probability : p is not a probability\")\n",
    "        return()\n",
    "        \n",
    "    \n",
    "    ## define output graph\n",
    "    G = nx.Graph()\n",
    "    \n",
    "    ## add nodes\n",
    "    for i in range(n):\n",
    "        G.add_node(i+1)\n",
    "        \n",
    "    ## define all possible edges\n",
    "    possible_edges = set()\n",
    "    for i in G.nodes:\n",
    "        for j in G.nodes:\n",
    "            if not (i==j) : # no loops !\n",
    "                possible_edges.add(frozenset([i,j]))\n",
    "                \n",
    "    ## add edges\n",
    "    for edge in possible_edges:\n",
    "        edge = [v for v in edge]\n",
    "        if rd.random() < p :\n",
    "            G.add_edge(edge[0],edge[1])\n",
    "    \n",
    "    return(G)"
   ]
  },
  {
   "cell_type": "code",
   "execution_count": 3,
   "metadata": {
    "collapsed": true
   },
   "outputs": [],
   "source": [
    "def er_nm (n,m) :\n",
    "\n",
    "    ## check variables\n",
    "    if not (type(n) == int):\n",
    "        print(\"Improper variable type : n is not an integer !\")\n",
    "        return()\n",
    "    if n < 0 :\n",
    "        print(\"Improper nodes number : n is negative\")\n",
    "        return()\n",
    "    if not (type(m) == int):\n",
    "        print(\"Improper variable type : m is not an integer !\")\n",
    "        return()\n",
    "    if (0>m) or (m>n*(n-1)/2) :\n",
    "        print(\"Improper edge number : m is outside possible edge number for n\")\n",
    "        return()\n",
    "\n",
    "    \n",
    "    ## define output graph\n",
    "    G = nx.Graph()\n",
    "    \n",
    "    ## add nodes\n",
    "    for i in range(n):\n",
    "        G.add_node(i+1)\n",
    "        \n",
    "    ## define all possible edges\n",
    "    possible_edges = set()\n",
    "    for i in G.nodes:\n",
    "        for j in G.nodes:\n",
    "            if not (i==j) : # no loops !\n",
    "                possible_edges.add(frozenset([i,j]))\n",
    "                \n",
    "    ## add edges\n",
    "    for i in range(m):\n",
    "        edge = rd.choice(list(possible_edges))\n",
    "        possible_edges.remove(edge)\n",
    "        edge = [v for v in edge]\n",
    "        G.add_edge(edge[0],edge[1])\n",
    "    \n",
    "    return(G)"
   ]
  },
  {
   "cell_type": "markdown",
   "metadata": {},
   "source": [
    "Having defined the graph generating function, we will check their proper functioning."
   ]
  },
  {
   "cell_type": "code",
   "execution_count": 4,
   "metadata": {},
   "outputs": [
    {
     "name": "stdout",
     "output_type": "stream",
     "text": [
      "~~~ checking er_np ~~~\n",
      "\n",
      "Over 30 trials, we found 0 errors on the node number, 0 loops, and 0 doublons. Mean log distance to expected number of edges was 0.0538018266077\n"
     ]
    }
   ],
   "source": [
    "print(\"~~~ checking er_np ~~~\\n\")\n",
    "node_number = []\n",
    "edge_distance = []\n",
    "loops_number = []\n",
    "doublons_number = []\n",
    "N = 30\n",
    "\n",
    "for i in range(N):\n",
    "    n = rd.randrange(10,100)\n",
    "    p = rd.random()\n",
    "    \n",
    "    g = er_np(n,p)\n",
    "    \n",
    "    node_number.append(1 - int(len(g.nodes)==n))\n",
    "    edge_distance.append(np.log(len(g.edges)/(p*n*(n-1)/2)))\n",
    "  \n",
    "    \n",
    "    edges = list(g.edges)\n",
    "    \n",
    "    loops_number.append(len([v for v in edges if len(v) == 1]))\n",
    "    \n",
    "    doublons = edges\n",
    "    edges = set(edges)\n",
    "    for v in edges:\n",
    "        doublons.remove(v)\n",
    "    doublons_number.append(len(doublons))\n",
    "    \n",
    "    \n",
    "print(\"Over \" + str(N) + \" trials, we found \" + str(sum(node_number)) + \" errors on the node number, \" + str(sum(loops_number)) + \" loops, and \" + str(sum(doublons_number)) + \" doublons. Mean log distance to expected number of edges was \" + str(sum([abs(x) for x in edge_distance])/len(edge_distance)))"
   ]
  },
  {
   "cell_type": "code",
   "execution_count": 5,
   "metadata": {},
   "outputs": [
    {
     "name": "stdout",
     "output_type": "stream",
     "text": [
      "~~~ checking er_nm ~~~\n",
      "\n",
      "Over 30 trials, we found 0 errors on the node number, 0 errors on the edges number, 0 loops, and 0 doublons.\n"
     ]
    }
   ],
   "source": [
    "print(\"~~~ checking er_nm ~~~\\n\")\n",
    "node_number = []\n",
    "edge_number = []\n",
    "loops_number = []\n",
    "doublons_number = []\n",
    "N = 30\n",
    "\n",
    "for i in range(N):\n",
    "    n = rd.randrange(10,100)\n",
    "    m = rd.randrange(0,n*(n-1)/2)\n",
    "    \n",
    "    g = er_nm(n,m)\n",
    "    \n",
    "    node_number.append(1 - int(len(g.nodes)==n))\n",
    "    edge_number.append(1 - int(len(g.edges)==m))\n",
    "  \n",
    "    \n",
    "    edges = list(g.edges)\n",
    "    \n",
    "    loops_number.append(len([v for v in edges if len(v) == 1]))\n",
    "    \n",
    "    doublons = edges\n",
    "    edges = set(edges)\n",
    "    for v in edges:\n",
    "        doublons.remove(v)\n",
    "    doublons_number.append(len(doublons))\n",
    "    \n",
    "    \n",
    "print(\"Over \" + str(N) + \" trials, we found \" + str(sum(node_number)) + \" errors on the node number, \" + str(sum(edge_number)) + \" errors on the edges number, \" + str(sum(loops_number)) + \" loops, and \" + str(sum(doublons_number)) + \" doublons.\")    "
   ]
  },
  {
   "cell_type": "markdown",
   "metadata": {},
   "source": [
    "As you can see, everything is going well."
   ]
  },
  {
   "cell_type": "markdown",
   "metadata": {},
   "source": [
    "### I.2 - Degree distributions of random graphs"
   ]
  },
  {
   "cell_type": "code",
   "execution_count": 6,
   "metadata": {
    "collapsed": true
   },
   "outputs": [],
   "source": [
    "def compare_edge_count(n,p):\n",
    "    G_np = er_np(n,p)\n",
    "    m = np.floor(p*n*(n-1)/2)\n",
    "    G_nm = er_nm(n,int(m))\n",
    "    return((len(G_np.edges)/len(G_nm.edges)))"
   ]
  },
  {
   "cell_type": "code",
   "execution_count": 7,
   "metadata": {},
   "outputs": [
    {
     "name": "stdout",
     "output_type": "stream",
     "text": [
      "Over 30 trials, the mean log distance between NP and NM graph edges number was 0.0523626690383\n"
     ]
    }
   ],
   "source": [
    "N = 30\n",
    "n = 30\n",
    "p = 0.3\n",
    "\n",
    "edge_distance = [np.log(compare_edge_count(n,p)) for i in range(N)]\n",
    "\n",
    "print(\"Over \" + str(N) + \" trials, the mean log distance between NP and NM graph edges number was \" + str(sum([abs(x) for x in edge_distance])/len(edge_distance)))"
   ]
  },
  {
   "cell_type": "markdown",
   "metadata": {},
   "source": [
    "As you can see, this ratio never goes very far from 1. This suggest that both NP and NM constructions do have the same expected number of edges."
   ]
  },
  {
   "cell_type": "code",
   "execution_count": 8,
   "metadata": {},
   "outputs": [
    {
     "data": {
      "image/png": "[encoded data removed]",
      "text/plain": [
       "<Figure size 432x288 with 1 Axes>"
      ]
     },
     "metadata": {},
     "output_type": "display_data"
    },
    {
     "data": {
      "text/plain": [
       "()"
      ]
     },
     "execution_count": 8,
     "metadata": {},
     "output_type": "execute_result"
    }
   ],
   "source": [
    "def compare_degree_distrib(n,p):\n",
    "    \n",
    "    N = 3000 ## number of graphs over which mean is calculated\n",
    "    \n",
    "    ## Compute np degree distribution\n",
    "    degrees_np = [0]*n\n",
    "    for i in range(N):\n",
    "        g_np = er_np(n,p)\n",
    "        for node in g_np.nodes :\n",
    "            degrees_np[g_np.degree(node)]+=1        \n",
    "    degree_distrib_np= [v/sum(degrees_np) for v in degrees_np]\n",
    "    \n",
    "    \n",
    "    ## Compute nm degree distribution\n",
    "    m = np.floor(p*n*(n-1)/2)\n",
    "    m = int(m)\n",
    "    degrees_nm = [0]*n\n",
    "    for i in range(N):\n",
    "        g_nm = er_nm(n,m)\n",
    "        for node in g_nm.nodes :\n",
    "            degrees_nm[g_nm.degree(node)]+=1\n",
    "    degree_distrib_nm = [v/sum(degrees_nm) for v in degrees_nm]\n",
    "    \n",
    "    ## Compute ideal degree distribution\n",
    "    degree_distrib_ideal = [math.factorial(n-1)/(math.factorial(k)*math.factorial(n-1-k))*np.power(p,k)*np.power(1-p,n-1-k) for k in range(n-1)]\n",
    "    \n",
    "    \n",
    "    ## Plot\n",
    "    plt.plot(degree_distrib_np, label = \"NP degree distribution\")\n",
    "    plt.plot(degree_distrib_nm, label = \"NM degree distribution\")\n",
    "    plt.plot(degree_distrib_ideal, label = \"Ideal degree distribution\")\n",
    "    plt.legend()\n",
    "    plt.show()\n",
    "    \n",
    "    return()\n",
    "\n",
    "compare_degree_distrib(60,0.3)"
   ]
  },
  {
   "cell_type": "markdown",
   "metadata": {},
   "source": [
    "As you can see above, both NP and NM follow closely the ideal distribution. To fully establish this result, we would need to show convergence with growing n, but I believe superposing the plots give us a clear enough idea of the situation here.\n",
    "\n",
    "Even though not displayed here, I tested for an array of n and p : the result is robust."
   ]
  },
  {
   "cell_type": "markdown",
   "metadata": {},
   "source": [
    "## II - The Erdös-Rényi model and connected components"
   ]
  },
  {
   "cell_type": "markdown",
   "metadata": {},
   "source": [
    "## II.1 - Transition in n times p"
   ]
  },
  {
   "cell_type": "markdown",
   "metadata": {},
   "source": [
    "As different scaling laws and graph property are implicated, we will have to study individual plots traducing scaling properties for varying p times n.\n",
    "\n",
    "We will plot average result both within and between graph of different size, to control for other parameters than n times p. Tested graph size will be evenly spaced in log space. \n",
    "\n",
    "While it is clear that higher n will give clearer results, we will stay within the 100 to 10000 range because of hardware limitations."
   ]
  },
  {
   "cell_type": "code",
   "execution_count": 9,
   "metadata": {
    "collapsed": true
   },
   "outputs": [],
   "source": [
    "## I define a function extracting sorted connected component sizes\n",
    "def comp_size(G):\n",
    "    components = nx.connected_components(G)\n",
    "    comp_size = []\n",
    "    for nodes in components:\n",
    "        comp_size.append(len(nodes))\n",
    "    comp_size.sort(reverse=True)\n",
    "    return(comp_size)\n",
    "\n",
    "\n",
    "## I define a function producing the quantities relevant to our study : mean biggest and second biggest component size, for varying n times p\n",
    "## It takes as parameters the n times p and n range it must review, and the number of trials it must average each (n times p ; n)\n",
    "def np_plot(ntimesp_range,n_range,I):\n",
    "    plots = {}\n",
    "    for ntimesp in ntimesp_range:\n",
    "        print(\"\\n n times p = \" + str(ntimesp))\n",
    "        ## Plot variables initialization\n",
    "        n_plot = [] ## Graph size\n",
    "        BCCS = [] ## Biggest connected component size\n",
    "        sBCCS = [] ## Second biggest connected component size\n",
    "\n",
    "\n",
    "        for n in n_range:\n",
    "            print(n)\n",
    "            n_plot.append(n)\n",
    "            BCCS.append(0)\n",
    "            sBCCS.append(0)\n",
    "\n",
    "            for i in range(I): ## Each value is averaged over I trials in order to get smoother curves\n",
    "                p = ntimesp/n\n",
    "                G = er_np(n,p)\n",
    "\n",
    "                BCCS[-1]+=(comp_size(G)[0])/I\n",
    "                sBCCS[-1]+=(comp_size(G)[1])/I\n",
    "\n",
    "        plots[ntimesp] = [n_plot,BCCS,sBCCS]\n",
    "    return(plots)"
   ]
  },
  {
   "cell_type": "code",
   "execution_count": 10,
   "metadata": {},
   "outputs": [
    {
     "name": "stdout",
     "output_type": "stream",
     "text": [
      "\n",
      " n times p = 0.4\n",
      "330\n",
      "403\n",
      "492\n",
      "601\n",
      "735\n",
      "897\n",
      "1096\n",
      "1339\n",
      "1635\n",
      "1998\n",
      "2440\n",
      "2980\n",
      "\n",
      " n times p = 0.6\n",
      "330\n",
      "403\n",
      "492\n",
      "601\n",
      "735\n",
      "897\n",
      "1096\n",
      "1339\n",
      "1635\n",
      "1998\n",
      "2440\n",
      "2980\n",
      "\n",
      " n times p = 0.8\n",
      "330\n",
      "403\n",
      "492\n",
      "601\n",
      "735\n",
      "897\n",
      "1096\n",
      "1339\n",
      "1635\n",
      "1998\n",
      "2440\n",
      "2980\n",
      "\n",
      " n times p = 1.0\n",
      "330\n",
      "403\n",
      "492\n",
      "601\n",
      "735\n",
      "897\n",
      "1096\n",
      "1339\n",
      "1635\n",
      "1998\n",
      "2440\n",
      "2980\n",
      "\n",
      " n times p = 1.2\n",
      "330\n",
      "403\n",
      "492\n",
      "601\n",
      "735\n",
      "897\n",
      "1096\n",
      "1339\n",
      "1635\n",
      "1998\n",
      "2440\n",
      "2980\n",
      "\n",
      " n times p = 1.4\n",
      "330\n",
      "403\n",
      "492\n",
      "601\n",
      "735\n",
      "897\n",
      "1096\n",
      "1339\n",
      "1635\n",
      "1998\n",
      "2440\n",
      "2980\n",
      "\n",
      " n times p = 1.6\n",
      "330\n",
      "403\n",
      "492\n",
      "601\n",
      "735\n",
      "897\n",
      "1096\n",
      "1339\n",
      "1635\n",
      "1998\n",
      "2440\n",
      "2980\n"
     ]
    }
   ],
   "source": [
    "## Plot parameters initialisation\n",
    "\n",
    "n_range = [int(np.floor(np.exp(i/5))) for i in range(29,41)] ### Final run\n",
    "## n_range = [int(np.floor(np.exp(i/5))) for i in range(25,35)] ### Test run\n",
    "\n",
    "I = 10 ### Final run\n",
    "## I = 3 ### Test run\n",
    "\n",
    "ntimesp_range = [v/5 for v in range(2,9)]\n",
    "\n",
    "\n",
    "## Generating data\n",
    "plots = np_plot(ntimesp_range,n_range,I)"
   ]
  },
  {
   "cell_type": "code",
   "execution_count": 11,
   "metadata": {},
   "outputs": [
    {
     "data": {
      "image/png": "[encoded data removed]",
      "text/plain": [
       "<Figure size 432x288 with 1 Axes>"
      ]
     },
     "metadata": {},
     "output_type": "display_data"
    }
   ],
   "source": [
    "## Plotting biggest component size over log graph size\n",
    "for ntimesp in ntimesp_range:    \n",
    "    plt.semilogx(plots[ntimesp][0],plots[ntimesp][1]/np.log(plots[ntimesp][0]),label=\"ntimesp = \" + str(ntimesp))\n",
    "\n",
    "plt.xlabel(\"Graph size\")\n",
    "plt.ylabel(\"Biggest connected component size over log graph size\")\n",
    "plt.legend(loc='upper left')\n",
    "plt.show()"
   ]
  },
  {
   "cell_type": "markdown",
   "metadata": {},
   "source": [
    "We can see that biggest component size clearly outgrows log graph size for n times p > 1, while it is clearly outgrown for p < 1. The case p = 1 is a littel ambiguous, but it does outgrow log graph size. This confirms the first Erdös-Rényi result."
   ]
  },
  {
   "cell_type": "code",
   "execution_count": 12,
   "metadata": {},
   "outputs": [
    {
     "data": {
      "image/png": "[encoded data removed]",
      "text/plain": [
       "<Figure size 432x288 with 1 Axes>"
      ]
     },
     "metadata": {},
     "output_type": "display_data"
    }
   ],
   "source": [
    "## Plotting biggest component size over graph size to the power 2/3\n",
    "for ntimesp in ntimesp_range:    \n",
    "    plt.semilogx(plots[ntimesp][0],plots[ntimesp][1]/np.power(plots[ntimesp][0],2/3),label=\"ntimesp = \" + str(ntimesp))\n",
    "\n",
    "plt.xlabel(\"Graph size\")\n",
    "plt.ylabel(\"Biggest connected component size over graph size to the power 2/3\")\n",
    "plt.legend(loc='upper left')\n",
    "plt.show()"
   ]
  },
  {
   "cell_type": "markdown",
   "metadata": {},
   "source": [
    "Biggest component size clearly outgrows graph size to the power 2/3 for n times p > 1, while it is clearly outgrown for n times p < 1. For n times p ~ 1, biggest component size seems to grow with graph size to the power 2/3. This confirm the second Erdös-Rényi result."
   ]
  },
  {
   "cell_type": "code",
   "execution_count": 13,
   "metadata": {},
   "outputs": [
    {
     "data": {
      "image/png": "[encoded data removed]",
      "text/plain": [
       "<Figure size 432x288 with 1 Axes>"
      ]
     },
     "metadata": {},
     "output_type": "display_data"
    }
   ],
   "source": [
    "## Plotting biggest component density\n",
    "for ntimesp in ntimesp_range:    \n",
    "    plt.semilogx(plots[ntimesp][0],plots[ntimesp][1]/np.abs(plots[ntimesp][0]),label=\"ntimesp = \" + str(ntimesp))\n",
    "\n",
    "plt.xlabel(\"Graph size\")\n",
    "plt.ylabel(\"Biggest connected component density\")\n",
    "plt.legend(loc='upper left')\n",
    "plt.show()"
   ]
  },
  {
   "cell_type": "markdown",
   "metadata": {},
   "source": [
    "While it is not extremely clear for p = 1, biggest component density does seem to be converging to 0 for all p =< 1, while it stays at finite value for all p > 1. This confirms partially the third Erdös-Rényi result."
   ]
  },
  {
   "cell_type": "code",
   "execution_count": 14,
   "metadata": {},
   "outputs": [
    {
     "data": {
      "image/png": "[encoded data removed]",
      "text/plain": [
       "<Figure size 432x288 with 1 Axes>"
      ]
     },
     "metadata": {},
     "output_type": "display_data"
    }
   ],
   "source": [
    "## Plotting second biggest component size over log graph size\n",
    "for ntimesp in ntimesp_range:    \n",
    "    plt.semilogx(plots[ntimesp][0],plots[ntimesp][2]/np.log(plots[ntimesp][0]),label=\"ntimesp = \" + str(ntimesp))\n",
    "\n",
    "plt.xlabel(\"Graph size\")\n",
    "plt.ylabel(\"Second biggest connected component size over log graph size\")\n",
    "plt.legend(loc='upper left')\n",
    "plt.show()"
   ]
  },
  {
   "cell_type": "markdown",
   "metadata": {
    "collapsed": true
   },
   "source": [
    "Second biggest component size clearly outgrows log graph size for n times p ~ 1 only. Far from 1, both above and below, it seems to grow with log graph size. This completes confirmation of the third Erdös-Rényi result."
   ]
  },
  {
   "cell_type": "markdown",
   "metadata": {},
   "source": [
    "### 2.1 - Transition in n times p over log n"
   ]
  },
  {
   "cell_type": "markdown",
   "metadata": {
    "collapsed": true
   },
   "source": [
    "We will now go on to study the transition in n times p over log n. This will be more straightforward, as we will be able to just plot connectedness probability for different values of n times p over log n.\n",
    "\n",
    "Except for that, our strategy is essentially similar to above."
   ]
  },
  {
   "cell_type": "code",
   "execution_count": 15,
   "metadata": {
    "collapsed": true
   },
   "outputs": [],
   "source": [
    "def nlognp_plot(v_range,n_range,I):\n",
    "    plots = {}\n",
    "    for v in v_range:\n",
    "        print(\"\\n n times p over log n = \" + str(v))\n",
    "        ## Plot variables initialization\n",
    "        connected_plot = [] ## Is the graph connected ?\n",
    "\n",
    "\n",
    "        for n in n_range:\n",
    "            print(n)            \n",
    "            for i in range(I): ## Each value is averaged over I trials in order to get smoother curves\n",
    "                p = v * np.log(n) / n\n",
    "                G = er_np(n,p)\n",
    "\n",
    "                connected_plot.append(nx.is_connected(G))\n",
    "                    \n",
    "        plots[v] = connected_plot\n",
    "    return(plots)"
   ]
  },
  {
   "cell_type": "code",
   "execution_count": 16,
   "metadata": {},
   "outputs": [
    {
     "name": "stdout",
     "output_type": "stream",
     "text": [
      "\n",
      " n times p over log n = 0.4\n",
      "330\n",
      "403\n",
      "492\n",
      "601\n",
      "735\n",
      "897\n",
      "1096\n",
      "1339\n",
      "1635\n",
      "1998\n",
      "2440\n",
      "2980\n",
      "\n",
      " n times p over log n = 0.6\n",
      "330\n",
      "403\n",
      "492\n",
      "601\n",
      "735\n",
      "897\n",
      "1096\n",
      "1339\n",
      "1635\n",
      "1998\n",
      "2440\n",
      "2980\n",
      "\n",
      " n times p over log n = 0.8\n",
      "330\n",
      "403\n",
      "492\n",
      "601\n",
      "735\n",
      "897\n",
      "1096\n",
      "1339\n",
      "1635\n",
      "1998\n",
      "2440\n",
      "2980\n",
      "\n",
      " n times p over log n = 1.0\n",
      "330\n",
      "403\n",
      "492\n",
      "601\n",
      "735\n",
      "897\n",
      "1096\n",
      "1339\n",
      "1635\n",
      "1998\n",
      "2440\n",
      "2980\n",
      "\n",
      " n times p over log n = 1.2\n",
      "330\n",
      "403\n",
      "492\n",
      "601\n",
      "735\n",
      "897\n",
      "1096\n",
      "1339\n",
      "1635\n",
      "1998\n",
      "2440\n",
      "2980\n",
      "\n",
      " n times p over log n = 1.4\n",
      "330\n",
      "403\n",
      "492\n",
      "601\n",
      "735\n",
      "897\n",
      "1096\n",
      "1339\n",
      "1635\n",
      "1998\n",
      "2440\n",
      "2980\n",
      "\n",
      " n times p over log n = 1.6\n",
      "330\n",
      "403\n",
      "492\n",
      "601\n",
      "735\n",
      "897\n",
      "1096\n",
      "1339\n",
      "1635\n",
      "1998\n",
      "2440\n",
      "2980\n"
     ]
    }
   ],
   "source": [
    "## Plot parameters initialisation (n_range and I are reused from previous paragraph)\n",
    "v_range = [v/5 for v in range(2,9)]\n",
    "\n",
    "## Generating data\n",
    "plots = nlognp_plot(v_range,n_range,I)"
   ]
  },
  {
   "cell_type": "code",
   "execution_count": 17,
   "metadata": {},
   "outputs": [
    {
     "data": {
      "image/png": "[encoded data removed]",
      "text/plain": [
       "<Figure size 432x288 with 1 Axes>"
      ]
     },
     "metadata": {},
     "output_type": "display_data"
    }
   ],
   "source": [
    "## Plotting biggest component size over log graph size\n",
    "plt.scatter(v_range,[sum(plots[v])/len(plots[v]) for v in plots.keys()])\n",
    "plt.xlabel(\"n times p over log n\")\n",
    "plt.ylabel(\"Graph connectedness propability\")\n",
    "plt.show()"
   ]
  },
  {
   "cell_type": "markdown",
   "metadata": {
    "collapsed": true
   },
   "source": [
    "We do observe the transition from near certain non-connectedness to near certain connectedness around 1, with epsilon = 0.3 in our case (relatively low n). This confirms the fourth and fifth Erdös-Rényi results."
   ]
  },
  {
   "cell_type": "markdown",
   "metadata": {
    "collapsed": true
   },
   "source": [
    "While our results are imperfect due to experimental noise, we could confirm every Erdös-Renyi result with convincing accuracy. Note however that transition in p times n and p times n over log n occur slowly, with a characteristic transition of around 0.2 for n varying between 300 and 3000. I expect the transition to be sharper for higher network size. I cannot however show this due to hardware limitations."
   ]
  },
  {
   "cell_type": "markdown",
   "metadata": {},
   "source": [
    "## 3 - The configuration model of random networks"
   ]
  },
  {
   "cell_type": "markdown",
   "metadata": {},
   "source": [
    "### 3.1 - Degree sequences obeying a given distribution"
   ]
  },
  {
   "cell_type": "markdown",
   "metadata": {},
   "source": [
    "#### 3.1.1 - degree_sequence_regular"
   ]
  },
  {
   "cell_type": "code",
   "execution_count": 9,
   "metadata": {
    "collapsed": true
   },
   "outputs": [],
   "source": [
    "def degree_sequence_regular(n,k):\n",
    "    if n*k%2 == 1:\n",
    "        print(\"Error : an \" + str(k) + \"-regular graph cannot be of size \" + str(n) + \"because it would have an uneven number of stubs.\")\n",
    "        return()\n",
    "    else :\n",
    "        deg = []\n",
    "        for i in range(n):\n",
    "            deg.append(k)\n",
    "    return(deg)"
   ]
  },
  {
   "cell_type": "markdown",
   "metadata": {},
   "source": [
    "We'll test the function by plotting an histogram for a specific value. We also check parity."
   ]
  },
  {
   "cell_type": "code",
   "execution_count": 10,
   "metadata": {},
   "outputs": [
    {
     "data": {
      "image/png": "[encoded data removed]",
      "text/plain": [
       "<Figure size 432x288 with 1 Axes>"
      ]
     },
     "metadata": {},
     "output_type": "display_data"
    },
    {
     "name": "stdout",
     "output_type": "stream",
     "text": [
      "Degree sum parity ? True\n"
     ]
    }
   ],
   "source": [
    "deg = degree_sequence_regular(1000,3)\n",
    "\n",
    "plt.hist(deg,density=True)\n",
    "plt.show()\n",
    "print(\"Degree sum parity ? \" + str(sum(deg)%2 == 0))"
   ]
  },
  {
   "cell_type": "markdown",
   "metadata": {},
   "source": [
    "Everything seems to be working."
   ]
  },
  {
   "cell_type": "markdown",
   "metadata": {},
   "source": [
    "#### 3.1.1 - degree_sequence_lognormal"
   ]
  },
  {
   "cell_type": "code",
   "execution_count": 11,
   "metadata": {},
   "outputs": [],
   "source": [
    "def degree_sequence_lognormal(n,m,v):\n",
    "    degree_sequence = [1]\n",
    "    mu = np.log(m/np.sqrt(1+v/(m**2)))\n",
    "    sigma = np.sqrt(np.log(1+v/(m**2)))\n",
    "    while sum(degree_sequence)%2 == 1:\n",
    "        degree_sequence=[]\n",
    "        for i in range(n):\n",
    "            k = np.round(rd.lognormvariate(mu,sigma))\n",
    "            degree_sequence.append(k)\n",
    "    return(degree_sequence)"
   ]
  },
  {
   "cell_type": "markdown",
   "metadata": {},
   "source": [
    "We'll test the function by plotting an histogram and first moments for a specific value. We also check parity."
   ]
  },
  {
   "cell_type": "code",
   "execution_count": 12,
   "metadata": {},
   "outputs": [
    {
     "data": {
      "image/png": "[encoded data removed]",
      "text/plain": [
       "<Figure size 432x288 with 1 Axes>"
      ]
     },
     "metadata": {},
     "output_type": "display_data"
    },
    {
     "name": "stdout",
     "output_type": "stream",
     "text": [
      "Mean : 10.0086666667 (Expected = 10)\n",
      "Variance : 10.1345915556 (Expected = 10)\n",
      "Somme des degrés paire ? True\n"
     ]
    }
   ],
   "source": [
    "mu = 10\n",
    "sigma = 10\n",
    "plot_range = 100\n",
    "\n",
    "deg = degree_sequence_lognormal(3000,mu,sigma)\n",
    "\n",
    "plt.hist(deg,plot_range,density=True)\n",
    "plt.show()\n",
    "print(\"Mean : \" + str(np.mean(deg)) + \" (Expected = \" + str(mu) + \")\")\n",
    "print(\"Variance : \" + str(np.var(deg)) + \" (Expected = \" + str(sigma) + \")\")\n",
    "print(\"Somme des degrés paire ? \" + str(sum(deg)%2 == 0))"
   ]
  },
  {
   "cell_type": "markdown",
   "metadata": {},
   "source": [
    "We can visually check lognormal distribution. Everything seems to be working."
   ]
  },
  {
   "cell_type": "markdown",
   "metadata": {},
   "source": [
    "### 3.2 - Attaching stubs to form a network"
   ]
  },
  {
   "cell_type": "code",
   "execution_count": 13,
   "metadata": {},
   "outputs": [],
   "source": [
    "def configure_sequence(degree_sequence):\n",
    "    G = nx.MultiGraph()\n",
    "    node_sequence = range(len(degree_sequence))\n",
    "    \n",
    "    for i in node_sequence:\n",
    "        G.add_node(i)\n",
    "            \n",
    "    while sum(degree_sequence) > 0:\n",
    "        node_1 = rd.choices(node_sequence,degree_sequence,k=1)[0]\n",
    "        degree_sequence[node_1]-=1\n",
    "        node_2 = rd.choices(node_sequence,degree_sequence,k=1)[0]\n",
    "        degree_sequence[node_2]-=1\n",
    "                \n",
    "        G.add_edge(node_1,node_2)\n",
    "        \n",
    "    return(G)"
   ]
  },
  {
   "cell_type": "markdown",
   "metadata": {},
   "source": [
    "We'll test the function by comparing input degree sequence to the independently calculated degree sequence of the output graph for some specific distribution."
   ]
  },
  {
   "cell_type": "code",
   "execution_count": 14,
   "metadata": {},
   "outputs": [
    {
     "name": "stdout",
     "output_type": "stream",
     "text": [
      "Number of nodes = 100 (expected = 100)\n",
      "Number of edges = 497 (expected = 500.0)\n"
     ]
    },
    {
     "data": {
      "image/png": "[encoded data removed]",
      "text/plain": [
       "<Figure size 432x288 with 1 Axes>"
      ]
     },
     "metadata": {},
     "output_type": "display_data"
    }
   ],
   "source": [
    "N = 100\n",
    "mu = 10\n",
    "sigma = 10\n",
    "degree_sequence = degree_sequence_lognormal(N,mu,sigma)\n",
    "\n",
    "G = configure_sequence(copy.deepcopy(degree_sequence))\n",
    "print(\"Number of nodes = \" + str(G.number_of_nodes()) + \" (expected = \" + str(N) + \")\")\n",
    "print(\"Number of edges = \" + str(G.number_of_edges()) + \" (expected = \" + str(N*mu/2) + \")\")\n",
    "\n",
    "plot_range = range(100)\n",
    "output_degree_sequence = sorted([d for n, d in G.degree()], reverse=True)\n",
    "plt.hist([d for n, d in G.degree()],plot_range,density=True,label=\"Output degree sequence\")\n",
    "plt.hist(degree_sequence,plot_range,density=True,label =\"Input degree sequence\")\n",
    "plt.legend()\n",
    "plt.show()\n"
   ]
  },
  {
   "cell_type": "markdown",
   "metadata": {},
   "source": [
    "As you can see, both distribution are perfectly aligned : configure_sequence works."
   ]
  },
  {
   "cell_type": "markdown",
   "metadata": {},
   "source": [
    "### 3.3 - Counting double edges and self loops"
   ]
  },
  {
   "cell_type": "code",
   "execution_count": 15,
   "metadata": {
    "collapsed": true
   },
   "outputs": [],
   "source": [
    "def irregular_edge_count(G):\n",
    "    count = 0\n",
    "    visited = []\n",
    "    \n",
    "    for edge in G.edges():\n",
    "        if edge[0] == edge[1]:\n",
    "            count += 1\n",
    "            ##print(\"loop : \" + str(edge))\n",
    "        \n",
    "        elif edge in visited:\n",
    "            count+=1\n",
    "            ##print(\"multiedge : \" + str(edge) + \" (number of edges = \" + str(G.number_of_edges(edge[0],edge[1])))\n",
    "\n",
    "        visited.append(edge)\n",
    "            \n",
    "    return(count)"
   ]
  },
  {
   "cell_type": "markdown",
   "metadata": {},
   "source": [
    "I tested the function by searching for irregularities in edges categorised as irregular, and for irregular edges categorised as regular. I do not show the process as it is cumbersome, but irregular_edges_count works."
   ]
  },
  {
   "cell_type": "markdown",
   "metadata": {},
   "source": [
    "I will now plot irregular edge density against network size for a specific degree distribution. While it does not work as proof in the general case, the dynamics we will show hold for any distribution."
   ]
  },
  {
   "cell_type": "code",
   "execution_count": 16,
   "metadata": {},
   "outputs": [
    {
     "name": "stdout",
     "output_type": "stream",
     "text": [
      "54\n",
      "66\n",
      "81\n",
      "99\n",
      "121\n",
      "148\n",
      "181\n",
      "221\n",
      "270\n",
      "330\n",
      "403\n",
      "492\n",
      "601\n",
      "735\n",
      "897\n"
     ]
    },
    {
     "data": {
      "image/png": "[encoded data removed]",
      "text/plain": [
       "<Figure size 432x288 with 1 Axes>"
      ]
     },
     "metadata": {},
     "output_type": "display_data"
    }
   ],
   "source": [
    "n_range = [int(np.floor(np.exp(i/5))) for i in range(20,35)]\n",
    "I = 5\n",
    "\n",
    "mu = 10\n",
    "sigma = 10\n",
    "\n",
    "plots = dict()\n",
    "\n",
    "for n in n_range:\n",
    "    print(n)\n",
    "    plots[n] = []\n",
    "    for i in range(I):\n",
    "        degree_sequence = degree_sequence_lognormal(n,mu,sigma)\n",
    "        G = configure_sequence(copy.deepcopy(degree_sequence))\n",
    "        plots[n].append(irregular_edge_count(G)/G.number_of_edges())\n",
    "\n",
    "        \n",
    "## Plotting irregular edges proportion against graph size\n",
    "plt.scatter(n_range,[sum(plots[v])/len(plots[v])for v in plots.keys()])\n",
    "plt.xlabel(\"Graph size\")\n",
    "plt.ylabel(\"Irregular edges proportion\")\n",
    "plt.show()\n",
    "    "
   ]
  },
  {
   "cell_type": "markdown",
   "metadata": {},
   "source": [
    "As you can see, irregular edges density decrease to 0 as network size increase. In the large network size approximation, the configuration model can reliably be expected to generate simple graphs. Alternatively, all irregular edges can be removed without significantly altering degree distribution."
   ]
  }
 ],
 "metadata": {
  "kernelspec": {
   "display_name": "Python 3",
   "language": "python",
   "name": "python3"
  },
  "language_info": {
   "codemirror_mode": {
    "name": "ipython",
    "version": 3
   },
   "file_extension": ".py",
   "mimetype": "text/x-python",
   "name": "python",
   "nbconvert_exporter": "python",
   "pygments_lexer": "ipython3",
   "version": "3.6.1"
  }
 },
 "nbformat": 4,
 "nbformat_minor": 2
}
