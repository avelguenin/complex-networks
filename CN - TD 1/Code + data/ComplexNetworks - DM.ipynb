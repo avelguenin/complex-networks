{
 "cells": [
  {
   "cell_type": "markdown",
   "metadata": {},
   "source": [
    "# Complex Networks - DM"
   ]
  },
  {
   "cell_type": "markdown",
   "metadata": {},
   "source": [
    "Avel Guénin--Carlut\n",
    "\n",
    "M2R Systèmes Complexes\n",
    "\n",
    "18 octobre 2018"
   ]
  },
  {
   "cell_type": "markdown",
   "metadata": {},
   "source": [
    "## Setup"
   ]
  },
  {
   "cell_type": "markdown",
   "metadata": {},
   "source": [
    "Run the \"graph\" library, corrected as instructed in the 29/09 mail, and supplemented as instructed.\n",
    "\n",
    "Just so you know, all methods are defined in the library and loaded here. The code I show you below as defining the different methods I was instructed to code is only copied from the library so that you can judge my work from the notebook only.\n",
    "\n",
    "I also imported reload (to be able to work on the notebook and the library parallely) ; deepcopy (to be able to work on altered versions of G without altering G itself, as it will be easier for you to know what results are to be expected from G) ; randrange (for building random graphs on which to test methods) ; loadtxt (for data importation)"
   ]
  },
  {
   "cell_type": "code",
   "execution_count": 1,
   "metadata": {},
   "outputs": [
    {
     "data": {
      "text/plain": [
       "<module 'graph' from '/home/avel/Documents/Travail/2018-19 : M2R Systèmes Complexes/2018-19 : M2R - Semestre 1/Complex networks/CN - Devoir Maison/graph.py'>"
      ]
     },
     "execution_count": 1,
     "metadata": {},
     "output_type": "execute_result"
    }
   ],
   "source": [
    "from importlib import reload\n",
    "from copy import deepcopy\n",
    "from random import randrange, sample\n",
    "from numpy import loadtxt\n",
    "\n",
    "import graph as g\n",
    "reload(g)"
   ]
  },
  {
   "cell_type": "markdown",
   "metadata": {},
   "source": [
    "Define an arbitrary graph \"G\", which will be used to test the functions"
   ]
  },
  {
   "cell_type": "code",
   "execution_count": 2,
   "metadata": {
    "collapsed": true
   },
   "outputs": [],
   "source": [
    "    d = {\n",
    "      \"a\": [\"c\", \"d\", \"g\"],\n",
    "      \"b\": [\"c\", \"f\"],\n",
    "      \"c\": [\"a\", \"b\", \"d\", \"f\"],\n",
    "      \"d\": [\"a\", \"c\", \"e\", \"g\"],\n",
    "      \"e\": [\"d\"],\n",
    "      \"f\": [\"b\", \"c\"],\n",
    "      \"g\": [\"a\", \"d\"]\n",
    "    }\n",
    "    \n",
    "    G = g.Graph(d)"
   ]
  },
  {
   "cell_type": "markdown",
   "metadata": {},
   "source": [
    "## 1 - Building an elementary graph library"
   ]
  },
  {
   "cell_type": "markdown",
   "metadata": {},
   "source": [
    "### a) Define and test  _generate_edges"
   ]
  },
  {
   "cell_type": "markdown",
   "metadata": {},
   "source": [
    "A method extracting the list of a graph's edges, coded as sets of two vertices.\n",
    "\n",
    "As the original code does not forbid to define graphs with loops or asymetrical connections, this method also checks that the graph is properly undirected and without loops. If so, it will return nothing and print an error signal instead of returning the edges set. I chose not to return the properly defined edge set, as an unproperly defined graph will mean we have to revise the code anyway.\n",
    "\n",
    "I'd prefer to code this in the graph initialisation - but I wanted not to alter the original code."
   ]
  },
  {
   "cell_type": "code",
   "execution_count": 3,
   "metadata": {
    "collapsed": true
   },
   "outputs": [],
   "source": [
    "    def __generate_edges(self):\n",
    "        edges = set() # I use a set structure for easy removing of doublons.\n",
    "        \n",
    "        for v1 in self.__graph_dict :\n",
    "            for v2 in self.__graph_dict[v1] :\n",
    "                \n",
    "                ## I check for errors in graph definition\n",
    "                if v1 == v2: # First error case : loop\n",
    "                    print(\"error : a loop is present in the graph\")\n",
    "                    return()\n",
    "                elif not (v1 in self.__graph_dict[v2]) : # Second error case : asymetry\n",
    "                    print(\"error : an edge is asymetrical\")\n",
    "                    return()\n",
    "                \n",
    "                ## if no error exist I add the edge to the output\n",
    "                else:\n",
    "                    edges.add(frozenset([v1,v2])) # edges are converted to frozenset because we need to arrange them in a set and set() do not allow dynamic structures such as sets\n",
    "\n",
    "        ### Then I convert output to a list(set) for readability\n",
    "        edges_list = []\n",
    "        for e in edges:\n",
    "            edges_list.append(set(e))\n",
    "        return edges_list"
   ]
  },
  {
   "cell_type": "markdown",
   "metadata": {},
   "source": [
    "The function is tested by calling it on g, and on a graph containing a loop. It is called indirectly through the method \"edges\"."
   ]
  },
  {
   "cell_type": "code",
   "execution_count": 4,
   "metadata": {},
   "outputs": [
    {
     "name": "stdout",
     "output_type": "stream",
     "text": [
      "Edges of g\n",
      "[{'a', 'g'}, {'b', 'c'}, {'b', 'f'}, {'a', 'd'}, {'f', 'c'}, {'g', 'd'}, {'e', 'd'}, {'a', 'c'}, {'d', 'c'}]\n",
      "\n",
      "Edges of a loop\n",
      "error : a loop is present in the graph\n",
      "\n",
      "Edges of an undirected graph\n",
      "error : an edge is asymetrical\n"
     ]
    },
    {
     "data": {
      "text/plain": [
       "()"
      ]
     },
     "execution_count": 4,
     "metadata": {},
     "output_type": "execute_result"
    }
   ],
   "source": [
    "print(\"Edges of g\")\n",
    "print(G.edges())\n",
    "\n",
    "d = {\"a\" : [\"a\"]}\n",
    "loop = g.Graph(d)\n",
    "print(\"\\nEdges of a loop\")\n",
    "loop.edges()\n",
    "\n",
    "d = {\n",
    "    \"a\" : [\"b\"],\n",
    "    \"b\" : []\n",
    "}\n",
    "directed = g.Graph(d)\n",
    "print(\"\\nEdges of an undirected graph\")\n",
    "directed.edges()"
   ]
  },
  {
   "cell_type": "markdown",
   "metadata": {},
   "source": [
    "As we see, the correct list of edges is displayed, and an error is correctly signaled for both problematic cases"
   ]
  },
  {
   "cell_type": "markdown",
   "metadata": {},
   "source": [
    "### b) Define and test add_vertex"
   ]
  },
  {
   "cell_type": "markdown",
   "metadata": {},
   "source": [
    "A method adding an isolated vertex to a graph. An warning message is displayed if the vertex is already present."
   ]
  },
  {
   "cell_type": "code",
   "execution_count": 5,
   "metadata": {
    "collapsed": true
   },
   "outputs": [],
   "source": [
    "    def add_vertex(self, vertex):\n",
    "        if vertex in self.__graph_dict:\n",
    "            print(\"The vertex \" + vertex + \" already was in the graph !\")\n",
    "        else :\n",
    "            self.__graph_dict[vertex]=[]"
   ]
  },
  {
   "cell_type": "markdown",
   "metadata": {},
   "source": [
    "The function is tested by trying to add two new vertex to a new graph G1 equal to G, in both case where the vertex is originally absent or present from the graph."
   ]
  },
  {
   "cell_type": "code",
   "execution_count": 6,
   "metadata": {},
   "outputs": [
    {
     "name": "stdout",
     "output_type": "stream",
     "text": [
      "Original vertices and edges in the graph\n",
      "['a', 'b', 'c', 'd', 'e', 'f', 'g']\n",
      "[{'a', 'g'}, {'b', 'c'}, {'b', 'f'}, {'a', 'd'}, {'f', 'c'}, {'g', 'd'}, {'e', 'd'}, {'a', 'c'}, {'d', 'c'}]\n",
      "\n",
      "Let's add a new vertex\n",
      "['a', 'b', 'c', 'd', 'e', 'f', 'g', 'h']\n",
      "[{'a', 'g'}, {'b', 'c'}, {'b', 'f'}, {'a', 'd'}, {'f', 'c'}, {'g', 'd'}, {'e', 'd'}, {'a', 'c'}, {'d', 'c'}]\n",
      "\n",
      "Let's add a preexisting vertex\n",
      "The vertex h already was in the graph !\n",
      "['a', 'b', 'c', 'd', 'e', 'f', 'g', 'h']\n",
      "[{'a', 'g'}, {'b', 'c'}, {'b', 'f'}, {'a', 'd'}, {'f', 'c'}, {'g', 'd'}, {'e', 'd'}, {'a', 'c'}, {'d', 'c'}]\n"
     ]
    }
   ],
   "source": [
    "G1 = deepcopy(G)\n",
    "\n",
    "print(\"Original vertices and edges in the graph\")\n",
    "print(G1.vertices())\n",
    "print(G1.edges())\n",
    "\n",
    "print(\"\\nLet's add a new vertex\")\n",
    "G1.add_vertex(\"h\")\n",
    "print(G1.vertices())\n",
    "print(G1.edges())\n",
    "\n",
    "print(\"\\nLet's add a preexisting vertex\")\n",
    "G1.add_vertex(\"h\")\n",
    "\n",
    "print(G1.vertices())\n",
    "print(G1.edges())"
   ]
  },
  {
   "cell_type": "markdown",
   "metadata": {},
   "source": [
    "As we can see, a new vertex can be added without affecting the edges, and if the vertex already was present an message is displayed and nothing else happens.\n"
   ]
  },
  {
   "cell_type": "markdown",
   "metadata": {},
   "source": [
    "### c) Define and test add_edges"
   ]
  },
  {
   "cell_type": "markdown",
   "metadata": {},
   "source": [
    "A method adding an edge to the graph. Without specific instructions, I assume that the graph structure do not allow for two vertices to be linked by several edges as this is the case we studied in our classes.\n",
    "\n",
    "A warning message is displayed if the edge links more or less than 2 elements, if it already existed, if it is a loop, or if it implies an non-existing vertex, and inconsistant instruction are not taken into account."
   ]
  },
  {
   "cell_type": "code",
   "execution_count": 7,
   "metadata": {
    "collapsed": true
   },
   "outputs": [],
   "source": [
    "    def add_edge(self, edge):\n",
    "        \"\"\" assumes that edge is of type set, tuple or list. No loops or \n",
    "        multiple edges. To complete.\"\"\"\n",
    "\n",
    "        ## Early conversion to a set assures that the function works the same on different data type\n",
    "        edge = set(edge) \n",
    "\n",
    "        ## first I check edge size\n",
    "        if (len(edge) > 2) :\n",
    "            print(\"Error : edge has more than two elements !\")\n",
    "            return()\n",
    "\n",
    "        elif (len(edge) == 1):\n",
    "            print(\"Error : edge is a loop !\")\n",
    "            return()\n",
    "\n",
    "        elif (len(edge) < 1):\n",
    "            print(\"Error : edge is empty !\")\n",
    "            return()\n",
    "        \n",
    "        ## Then I extract vertices\n",
    "        v1 = edge.pop()\n",
    "        v2 = edge.pop()\n",
    "\n",
    "        \n",
    "        ## Then I check that the edge is properly defined\n",
    "        if set([v1,v2]) in self.edges():\n",
    "            print(\"The edge \" + str([v1,v2]) + \" already existed\")\n",
    "            return()\n",
    "\n",
    "        elif not ((v1 in self.vertices()) and (v2 in self.vertices())):\n",
    "            print(\"error : undefined vertex !\")\n",
    "            return()\n",
    "\n",
    "        ## if no error can be detected, I add the edge as two symmetrical entries in the __graph_dict structure\"\n",
    "        self.__graph_dict[v1].append(v2)\n",
    "        self.__graph_dict[v2].append(v1)\n",
    "\n",
    "        return()"
   ]
  },
  {
   "cell_type": "markdown",
   "metadata": {},
   "source": [
    "Again, we test the method in different cases. Different data type are not tested here for compacity, but early conversion to a set insure that the method behaviour is homogenous."
   ]
  },
  {
   "cell_type": "code",
   "execution_count": 8,
   "metadata": {},
   "outputs": [
    {
     "name": "stdout",
     "output_type": "stream",
     "text": [
      "Original vertices and edges in the graph\n",
      "['a', 'b', 'c', 'd', 'e', 'f', 'g']\n",
      "[{'a', 'g'}, {'b', 'c'}, {'b', 'f'}, {'a', 'd'}, {'f', 'c'}, {'g', 'd'}, {'e', 'd'}, {'a', 'c'}, {'d', 'c'}]\n",
      "\n",
      "Let's add {} (empty edge)\n",
      "Error : edge is empty !\n",
      "['a', 'b', 'c', 'd', 'e', 'f', 'g']\n",
      "[{'a', 'g'}, {'b', 'c'}, {'b', 'f'}, {'a', 'd'}, {'f', 'c'}, {'g', 'd'}, {'e', 'd'}, {'a', 'c'}, {'d', 'c'}]\n",
      "\n",
      "Let's add {'a','a'} (a loop)\n",
      "Error : edge is a loop !\n",
      "['a', 'b', 'c', 'd', 'e', 'f', 'g']\n",
      "[{'a', 'g'}, {'b', 'c'}, {'b', 'f'}, {'a', 'd'}, {'f', 'c'}, {'g', 'd'}, {'e', 'd'}, {'a', 'c'}, {'d', 'c'}]\n",
      "\n",
      "Let's add {'a','b','c'} (a multiple vertices edge)\n",
      "Error : edge has more than two elements !\n",
      "['a', 'b', 'c', 'd', 'e', 'f', 'g']\n",
      "[{'a', 'g'}, {'b', 'c'}, {'b', 'f'}, {'a', 'd'}, {'f', 'c'}, {'g', 'd'}, {'e', 'd'}, {'a', 'c'}, {'d', 'c'}]\n",
      "\n",
      "Let's add a proper new edge {'a','b'}\n",
      "['a', 'b', 'c', 'd', 'e', 'f', 'g']\n",
      "[{'a', 'g'}, {'b', 'c'}, {'b', 'f'}, {'a', 'd'}, {'f', 'c'}, {'g', 'd'}, {'e', 'd'}, {'a', 'c'}, {'a', 'b'}, {'d', 'c'}]\n",
      "\n",
      "Let's add {'a','b'} AGAIN (preexisting edge)\n",
      "The edge ['a', 'b'] already existed\n",
      "['a', 'b', 'c', 'd', 'e', 'f', 'g']\n",
      "[{'a', 'g'}, {'b', 'c'}, {'b', 'f'}, {'a', 'd'}, {'f', 'c'}, {'g', 'd'}, {'e', 'd'}, {'a', 'c'}, {'a', 'b'}, {'d', 'c'}]\n",
      "\n",
      "Let's add {'a','toto'} (undefined vertices)\n",
      "error : undefined vertex !\n",
      "['a', 'b', 'c', 'd', 'e', 'f', 'g']\n",
      "[{'a', 'g'}, {'b', 'c'}, {'b', 'f'}, {'a', 'd'}, {'f', 'c'}, {'g', 'd'}, {'e', 'd'}, {'a', 'c'}, {'a', 'b'}, {'d', 'c'}]\n"
     ]
    }
   ],
   "source": [
    "G1 = deepcopy(G)\n",
    "\n",
    "print(\"Original vertices and edges in the graph\")\n",
    "print(G1.vertices())\n",
    "print(G1.edges())\n",
    "\n",
    "print(\"\\nLet's add {} (empty edge)\")\n",
    "G1.add_edge({})\n",
    "print(G1.vertices())\n",
    "print(G1.edges())\n",
    "\n",
    "print(\"\\nLet's add {'a','a'} (a loop)\")\n",
    "G1.add_edge({\"a\",\"a\"})\n",
    "print(G1.vertices())\n",
    "print(G1.edges())\n",
    "\n",
    "print(\"\\nLet's add {'a','b','c'} (a multiple vertices edge)\")\n",
    "G1.add_edge({\"a\",\"b\",\"c\"})\n",
    "print(G1.vertices())\n",
    "print(G1.edges())\n",
    "\n",
    "print(\"\\nLet's add a proper new edge {'a','b'}\")\n",
    "G1.add_edge({\"a\",\"b\"})\n",
    "print(G1.vertices())\n",
    "print(G1.edges())\n",
    "\n",
    "print(\"\\nLet's add {'a','b'} AGAIN (preexisting edge)\")\n",
    "G1.add_edge({\"a\",\"b\"})\n",
    "print(G1.vertices())\n",
    "print(G1.edges())\n",
    "\n",
    "print(\"\\nLet's add {'a','toto'} (undefined vertices)\")\n",
    "G1.add_edge({\"a\",\"toto\"})\n",
    "print(G1.vertices())\n",
    "print(G1.edges())"
   ]
  },
  {
   "cell_type": "markdown",
   "metadata": {},
   "source": [
    "We can see that the method works properly, and returns correct error signals."
   ]
  },
  {
   "cell_type": "markdown",
   "metadata": {},
   "source": [
    "# 2 - Methods related to degree"
   ]
  },
  {
   "cell_type": "markdown",
   "metadata": {},
   "source": [
    "## 2.1 - Degree and isolated vertices"
   ]
  },
  {
   "cell_type": "markdown",
   "metadata": {},
   "source": [
    "### a) Define and test vertex_degree"
   ]
  },
  {
   "cell_type": "markdown",
   "metadata": {},
   "source": [
    "A method returning the degree of all vertices in a dictionary"
   ]
  },
  {
   "cell_type": "code",
   "execution_count": 9,
   "metadata": {
    "collapsed": true
   },
   "outputs": [],
   "source": [
    "    def vertex_degree(self):\n",
    "        degree = dict()\n",
    "        for v in self.__graph_dict.keys():\n",
    "            degree[v] = len(self.__graph_dict[v])\n",
    "\n",
    "        return degree"
   ]
  },
  {
   "cell_type": "markdown",
   "metadata": {},
   "source": [
    "Let's try it on G, and also try it with an additional isolated vertex :"
   ]
  },
  {
   "cell_type": "code",
   "execution_count": 10,
   "metadata": {},
   "outputs": [
    {
     "name": "stdout",
     "output_type": "stream",
     "text": [
      "{'a': 3, 'b': 2, 'c': 4, 'd': 4, 'e': 1, 'f': 2, 'g': 2}\n",
      "{'a': 3, 'b': 2, 'c': 4, 'd': 4, 'e': 1, 'f': 2, 'g': 2, 'h': 0}\n"
     ]
    }
   ],
   "source": [
    "print(G.vertex_degree())\n",
    "\n",
    "G1 = deepcopy(G)\n",
    "G1.add_vertex(\"h\")\n",
    "print(G1.vertex_degree())"
   ]
  },
  {
   "cell_type": "markdown",
   "metadata": {
    "collapsed": true
   },
   "source": [
    "We can see the method work, including in the limit case of isolated vertices"
   ]
  },
  {
   "cell_type": "markdown",
   "metadata": {
    "collapsed": true
   },
   "source": [
    "### b) find_isolated_vertices"
   ]
  },
  {
   "cell_type": "markdown",
   "metadata": {
    "collapsed": true
   },
   "source": [
    "Method returning all isolated vertices in a set. As we have the vertex_degree method, we just have to find the keys returning 0 as a value."
   ]
  },
  {
   "cell_type": "code",
   "execution_count": 11,
   "metadata": {
    "collapsed": true
   },
   "outputs": [],
   "source": [
    "    def find_isolated_vertices(self):\n",
    "        degree = self.vertex_degree()\n",
    "        isolated_vertices=set([v for v in degree if degree[v] == 0])\n",
    "\n",
    "        return isolated_vertices"
   ]
  },
  {
   "cell_type": "code",
   "execution_count": 12,
   "metadata": {},
   "outputs": [
    {
     "name": "stdout",
     "output_type": "stream",
     "text": [
      "set()\n",
      "{'h'}\n",
      "{'h', 'i'}\n"
     ]
    }
   ],
   "source": [
    "print(G.find_isolated_vertices())\n",
    "\n",
    "G1 = deepcopy(G)\n",
    "G1.add_vertex(\"h\")\n",
    "print(G1.find_isolated_vertices())\n",
    "G1.add_vertex(\"i\")\n",
    "print(G1.find_isolated_vertices())"
   ]
  },
  {
   "cell_type": "markdown",
   "metadata": {},
   "source": [
    "The method works for 0, 1, and 2 isolated vertices in the graph we tested."
   ]
  },
  {
   "cell_type": "markdown",
   "metadata": {},
   "source": [
    "## 2.2 - Density calculation"
   ]
  },
  {
   "cell_type": "markdown",
   "metadata": {
    "collapsed": true
   },
   "source": [
    "A method returning the density of the graph, defined as the ratio of edges number over the maximum of possible number of edges knowing the number of vertices.\n",
    "\n",
    "As loops are not allowed, we expect the method to return m/(n*(n-1)/2) where m is the number of edges and n the number of vertices in the graph. I do not allow for density calculation for graph whose size is inferior to 2, since the maximum number of edges is then zero."
   ]
  },
  {
   "cell_type": "code",
   "execution_count": 13,
   "metadata": {
    "collapsed": true
   },
   "outputs": [],
   "source": [
    "    def density(self):\n",
    "        n = len(self.vertices())\n",
    "        m = len(self.edges())\n",
    "\n",
    "        # to avoid limit problem, I do not allow density calculation when the number of vertices do not allow for any edge\n",
    "        if n < 2 :\n",
    "            print(\"No density can be computed for graph with n<2\")\n",
    "            return()\n",
    "\n",
    "        return 2*m/(n*(n-1))"
   ]
  },
  {
   "cell_type": "markdown",
   "metadata": {},
   "source": [
    "We'll first test the limit cas of n = 0,1,2. The code is expected to display an error message and return nothing in the first two cases, but to return a (correct) value in the last two ones."
   ]
  },
  {
   "cell_type": "code",
   "execution_count": 14,
   "metadata": {},
   "outputs": [
    {
     "name": "stdout",
     "output_type": "stream",
     "text": [
      "Density of a void graph\n",
      "No density can be computed for graph with n<2\n",
      "()\n",
      "\n",
      "\n",
      "Density of an univertex graph\n",
      "No density can be computed for graph with n<2\n",
      "()\n",
      "\n",
      "\n",
      "Density of a bivertex graph (empty)\n",
      "0.0\n",
      "\n",
      "\n",
      "Density of a bivertex graph (complete)\n",
      "1.0\n"
     ]
    }
   ],
   "source": [
    "print(\"Density of a void graph\")\n",
    "G1 = g.Graph(dict())\n",
    "print(G1.density())\n",
    "\n",
    "print(\"\\n\")\n",
    "print(\"Density of an univertex graph\")\n",
    "G1.add_vertex(\"a\")\n",
    "print(G1.density())\n",
    "\n",
    "print(\"\\n\")\n",
    "print(\"Density of a bivertex graph (empty)\")\n",
    "G1.add_vertex(\"b\")\n",
    "print(G1.density())\n",
    "\n",
    "print(\"\\n\")\n",
    "print(\"Density of a bivertex graph (complete)\")\n",
    "G1.add_edge([\"a\",\"b\"])\n",
    "\n",
    "print(G1.density())"
   ]
  },
  {
   "cell_type": "markdown",
   "metadata": {
    "collapsed": true
   },
   "source": [
    "Then we'll test a random graph build with known density (uniform over the range of possible densities)"
   ]
  },
  {
   "cell_type": "code",
   "execution_count": 15,
   "metadata": {},
   "outputs": [
    {
     "name": "stdout",
     "output_type": "stream",
     "text": [
      "Graph's density at definition : 0.7435897435897436\n",
      "Graph's computed density : 0.7435897435897436\n",
      "Is the computed density correct ? True\n"
     ]
    }
   ],
   "source": [
    "def randgraph(n,m,label=\"n\"):\n",
    "    G1 = g.Graph(dict())\n",
    "\n",
    "    ## I add a random, known number of vertices\n",
    "    for j in range(n):\n",
    "        G1.add_vertex(label + str(j))\n",
    "\n",
    "    ## I add a random, known, number of edges selected over all potential edges\n",
    "    potential_edges=set()\n",
    "    for v1 in G1.vertices():\n",
    "        for v2 in G1.vertices():\n",
    "            if not (v1 == v2):\n",
    "                potential_edges.add(frozenset([v1,v2]))\n",
    "\n",
    "    for l in range(m):\n",
    "        e = sample(potential_edges,1)[0] # sample is used to have true-ish randomness in the selection of edges\n",
    "        potential_edges.remove(e)\n",
    "        G1.add_edge(set(e))\n",
    "        \n",
    "    return G1\n",
    "\n",
    "\n",
    "\n",
    "n = randrange(10,20)\n",
    "m = randrange(n*(n-1)/2)\n",
    "\n",
    "\n",
    "G1 = randgraph(n,m)\n",
    "n = len(G1.vertices())\n",
    "m = len(G1.edges())\n",
    "\n",
    "d_def = 2*m/(n*(n-1))\n",
    "d_method = G1.density()\n",
    "print(\"Graph's density at definition : \" + str(d_def))\n",
    "print(\"Graph's computed density : \" + str(d_method))\n",
    "print(\"Is the computed density correct ? \" + str(d_def == d_method))\n",
    "    \n",
    "        "
   ]
  },
  {
   "cell_type": "markdown",
   "metadata": {},
   "source": [
    "## 2.2 - Degree sequence"
   ]
  },
  {
   "cell_type": "markdown",
   "metadata": {},
   "source": [
    "This method returns all of the vertices' degree as an ordered tuple. From the method vertex_degree, the implementation is pretty straightforward."
   ]
  },
  {
   "cell_type": "code",
   "execution_count": 16,
   "metadata": {
    "collapsed": true
   },
   "outputs": [],
   "source": [
    "    def degree_sequence(self):\n",
    "        degree = self.vertex_degree()\n",
    "        deg_seq = list(degree.values())\n",
    "        deg_seq.sort(reverse=True)\n",
    "        deg_seq = tuple(deg_seq)"
   ]
  },
  {
   "cell_type": "markdown",
   "metadata": {},
   "source": [
    "Let's test it on G, and also on an empty graph, and also on a graph with only one (isolated) vertex :"
   ]
  },
  {
   "cell_type": "code",
   "execution_count": 17,
   "metadata": {},
   "outputs": [
    {
     "name": "stdout",
     "output_type": "stream",
     "text": [
      "(4, 4, 3, 2, 2, 2, 1)\n",
      "()\n",
      "(0,)\n"
     ]
    }
   ],
   "source": [
    "print(G.degree_sequence())\n",
    "G1 = g.Graph(dict())\n",
    "print(G1.degree_sequence())\n",
    "G1.add_vertex(\"a\")\n",
    "print(G1.degree_sequence())"
   ]
  },
  {
   "cell_type": "markdown",
   "metadata": {},
   "source": [
    "Well, it all seem to work."
   ]
  },
  {
   "cell_type": "markdown",
   "metadata": {},
   "source": [
    "## 2.4 - Erdös-Gallai theorem"
   ]
  },
  {
   "cell_type": "markdown",
   "metadata": {},
   "source": [
    "This method returns from a tuple a Boolean value indicating whether there exist a graph with this sequence as a degree sequence, using the Erdös-Gallai theorem.\n",
    "\n",
    "As instructed, it is coded as a method inside the \"Graph\" class and not as a standalone."
   ]
  },
  {
   "cell_type": "code",
   "execution_count": 18,
   "metadata": {
    "collapsed": true
   },
   "outputs": [],
   "source": [
    "    def erdos_gallai(self,seq):\n",
    "        n = len(seq)\n",
    "\n",
    "        ## check non-increase condition\n",
    "        for i in range(1,n):\n",
    "            if seq[i]>seq[i-1]:\n",
    "                print(\"Sequance isn't non increasing\")\n",
    "                return(False)\n",
    "\n",
    "        ## check sum parity\n",
    "        if sum(seq)%2 == 1:\n",
    "            print(\"Sequence has odd sum\")\n",
    "            return(False)\n",
    "\n",
    "        ## check inequality for all k\n",
    "        for k in range(1,n):\n",
    "            l_term = sum(seq[0:k])\n",
    "\n",
    "            r_term = k*(k-1)\n",
    "            r_term += sum(min(list(seq[k+1:]),[k for i in range(k+1,n)]))\n",
    "\n",
    "            if l_term > r_term:\n",
    "                print(\"Inequality invalid for k = \" + str(k))\n",
    "                return(False)\n",
    "            \n",
    "        ## and if no condition is invalid\n",
    "        return(True)"
   ]
  },
  {
   "cell_type": "markdown",
   "metadata": {},
   "source": [
    "Let's test it on actual degree sequence from G and a random graph, and on sequence we build to falsify each condition independantly. Let's also check it does not crash on the limit case of a null sequence."
   ]
  },
  {
   "cell_type": "code",
   "execution_count": 19,
   "metadata": {
    "scrolled": true
   },
   "outputs": [
    {
     "name": "stdout",
     "output_type": "stream",
     "text": [
      "Erdös-Gallai method for G's degree sequence ? \n",
      "True\n",
      "Erdös-Gallai method for a random graph's degree sequence ? \n",
      "True\n",
      "\n",
      "\n",
      "Erdös-Gallai method for a odd sum sequence ? \n",
      "Sequence has odd sum\n",
      "False\n",
      "\n",
      "\n",
      "Erdös-Gallai method for a locally increasing sequence ? \n",
      "Sequance isn't non increasing\n",
      "False\n",
      "\n",
      "\n",
      "Erdös-Gallai method for a sequence falsifying the inequality ? \n",
      "Inequality invalid for k = 1\n",
      "False\n",
      "\n",
      "\n",
      "Erdös-Gallai method for a null sequence ? \n",
      "True\n"
     ]
    }
   ],
   "source": [
    "print(\"Erdös-Gallai method for G's degree sequence ? \")\n",
    "seq = G.degree_sequence()\n",
    "print(G.erdos_gallai(seq))\n",
    "\n",
    "n = randrange(10,20)\n",
    "m = randrange(n*(n-1)/2)\n",
    "G1 = randgraph(n,m)\n",
    "\n",
    "print(\"Erdös-Gallai method for a random graph's degree sequence ? \")\n",
    "seq = G1.degree_sequence()\n",
    "print(G1.erdos_gallai(seq))\n",
    "print(\"\\n\")\n",
    "\n",
    "print(\"Erdös-Gallai method for a odd sum sequence ? \")\n",
    "seq = seq.__add__((1,))\n",
    "print(G1.erdos_gallai(seq))\n",
    "print(\"\\n\")\n",
    "\n",
    "print(\"Erdös-Gallai method for a locally increasing sequence ? \")\n",
    "seq = seq.__add__((3,))\n",
    "print(G1.erdos_gallai(seq))\n",
    "print(\"\\n\")\n",
    "\n",
    "print(\"Erdös-Gallai method for a sequence falsifying the inequality ? \")\n",
    "seq = (8,3,1)\n",
    "print(G1.erdos_gallai(seq))\n",
    "print(\"\\n\")\n",
    "\n",
    "print(\"Erdös-Gallai method for a null sequence ? \")\n",
    "seq = ()\n",
    "print(G1.erdos_gallai(seq))\n"
   ]
  },
  {
   "cell_type": "markdown",
   "metadata": {
    "collapsed": true
   },
   "source": [
    "## 2.5 - Global clustering coefficient"
   ]
  },
  {
   "cell_type": "markdown",
   "metadata": {
    "collapsed": true
   },
   "source": [
    "A method returning the global clustering coefficient of a graph."
   ]
  },
  {
   "cell_type": "code",
   "execution_count": 20,
   "metadata": {
    "collapsed": true
   },
   "outputs": [],
   "source": [
    "    def global_clustering_coefficient(self):\n",
    "        ## Let's first build the set of all triplets in the graph\n",
    "        global_triplets = set()\n",
    "\n",
    "        for v in self.vertices():\n",
    "            local_triplets = set()\n",
    "            for i in range(len(self.__graph_dict[v])):\n",
    "                for j in range(i+1,len(self.__graph_dict[v])):\n",
    "                    s = frozenset([v,self.__graph_dict[v][i],self.__graph_dict[v][j]])\n",
    "                    local_triplets.add(s)\n",
    "                    \n",
    "            for t in local_triplets :\n",
    "                    global_triplets.add(t)\n",
    "\n",
    "        ## Then let's count the number of triplets that are triangles\n",
    "        t_counter = 0\n",
    "        for s in global_triplets:\n",
    "            [v1,v2,v3] = list(s)\n",
    "            if (v1 in self.__graph_dict[v2]) and (v2 in self.__graph_dict[v3]) and (v3 in self.__graph_dict[v1]): #here we (ab)use the symmetry property to gain a few operations\n",
    "                t_counter+=1\n",
    "\n",
    "        ## ...and return the result. By convention, we will take 0 for all graph where no triplet exist.\n",
    "        if len(global_triplets) > 0 :\n",
    "            return(t_counter/len(global_triplets))\n",
    "        else:\n",
    "            return(0)\n"
   ]
  },
  {
   "cell_type": "markdown",
   "metadata": {},
   "source": [
    "We check below on G, a complete graph, an edgeless graph, and a void graph (in the latter case we expect the function to return 0)"
   ]
  },
  {
   "cell_type": "code",
   "execution_count": 21,
   "metadata": {},
   "outputs": [
    {
     "name": "stdout",
     "output_type": "stream",
     "text": [
      "density of G : 0.25\n",
      "density of a complete graph : 1.0\n",
      "density of an edgeless graph : 0\n",
      "density of an empty graph : 0\n"
     ]
    }
   ],
   "source": [
    "print(\"density of G : \" + str(G.global_clustering_coefficient()))\n",
    "\n",
    "n = randrange(10,20)\n",
    "m = int(n*(n-1)/2)\n",
    "G1 = randgraph(n,m)\n",
    "print(\"density of a complete graph : \" + str(G1.global_clustering_coefficient()))\n",
    "\n",
    "\n",
    "n = randrange(10,20)\n",
    "m = 0\n",
    "G1 = randgraph(n,m)\n",
    "print(\"density of an edgeless graph : \" + str(G1.global_clustering_coefficient()))\n",
    "\n",
    "G1 = g.Graph(dict())\n",
    "print(\"density of an empty graph : \" + str(G1.global_clustering_coefficient()))\n"
   ]
  },
  {
   "cell_type": "markdown",
   "metadata": {},
   "source": [
    "Everything seems to be working."
   ]
  },
  {
   "cell_type": "markdown",
   "metadata": {
    "collapsed": true
   },
   "source": [
    "# 3 - Methods related to graph traversal"
   ]
  },
  {
   "cell_type": "markdown",
   "metadata": {
    "collapsed": true
   },
   "source": [
    "## 3.1 - Connected components"
   ]
  },
  {
   "cell_type": "markdown",
   "metadata": {
    "collapsed": true
   },
   "source": [
    "A method returning all connected components as a list of set. For the sake of generality, it does not return directly number and size of all connected components, but these quantities can be straightforwadly computed from the method's output as shown in the tests below."
   ]
  },
  {
   "cell_type": "code",
   "execution_count": 22,
   "metadata": {
    "collapsed": true
   },
   "outputs": [],
   "source": [
    "    def connected_component(self):\n",
    "        \n",
    "        ## Initialisation\n",
    "        visited = dict() # this store both the set of visited vertices and the order in which they were visited\n",
    "        count = 0 # this is the variable counting visit order\n",
    "        connected_components_list = []\n",
    "\n",
    "        for v in self.vertices():\n",
    "            visited[v] = count # 0 is understood as \"not visited\"\n",
    "\n",
    "            \n",
    "        ## Calculation\n",
    "        while (0 in visited.values()):\n",
    "            \n",
    "            ## Initialisation of a single connected component's exploration\n",
    "            \n",
    "            adj_vertices = set() # contains the list of vertices that are adjacent to the visited ensemble\n",
    "            connected_component = set() # contains the set of elements of the connected component currently active\n",
    "\n",
    "            v = [key  for (key, value) in visited.items() if value == 0][0] # pick an unvisited vertex\n",
    "            adj_vertices.add(v)\n",
    "\n",
    "            ## explore until end of connected component\n",
    "            while len(adj_vertices) > 0:\n",
    "                v = adj_vertices.pop()\n",
    "                connected_component.add(v)\n",
    "                l = [v_adj for v_adj in self.__graph_dict[v] if visited[v_adj] == 0]\n",
    "                adj_vertices |= set(l)\n",
    "                                \n",
    "                count += 1\n",
    "                visited[v] = count\n",
    "\n",
    "            ## add connected component to connected component list\n",
    "            connected_components_list.append(frozenset(connected_component)) # frozenset is used to allow connected components list to be converted as a set, which is useful to check equality\n",
    "             \n",
    "        return(connected_components_list)"
   ]
  },
  {
   "cell_type": "markdown",
   "metadata": {
    "collapsed": true
   },
   "source": [
    "Let's test it in a number of simple cases where we know the expected result and can quickly check consistency, and also in the case of a random graph."
   ]
  },
  {
   "cell_type": "code",
   "execution_count": 23,
   "metadata": {
    "scrolled": true
   },
   "outputs": [
    {
     "name": "stdout",
     "output_type": "stream",
     "text": [
      "Connex components of G\n",
      "[frozenset({'e', 'c', 'a', 'f', 'b', 'g', 'd'})]\n",
      "Number of connected components : 1\n",
      "Size of connected components : [7]\n",
      "\n",
      "\n",
      "Connex components of a complete graph\n",
      "[frozenset({'n7', 'n8', 'n9', 'n3', 'n6', 'n0', 'n13', 'n2', 'n10', 'n11', 'n1', 'n4', 'n12', 'n5'})]\n",
      "Number of connected components : 1\n",
      "Size of connected components : [14]\n",
      "\n",
      "\n",
      "Connex components of a edgeless graph\n",
      "[frozenset({'n0'}), frozenset({'n1'}), frozenset({'n2'}), frozenset({'n3'}), frozenset({'n4'}), frozenset({'n5'}), frozenset({'n6'}), frozenset({'n7'}), frozenset({'n8'}), frozenset({'n9'}), frozenset({'n10'}), frozenset({'n11'}), frozenset({'n12'}), frozenset({'n13'}), frozenset({'n14'}), frozenset({'n15'})]\n",
      "Number of connected components : 16\n",
      "Size of connected components : [1, 1, 1, 1, 1, 1, 1, 1, 1, 1, 1, 1, 1, 1, 1, 1]\n",
      "\n",
      "\n",
      "Connex components of an empty graph\n",
      "[]\n",
      "Number of connected components : 0\n",
      "Size of connected components : []\n",
      "\n",
      "\n",
      "Connex components of a random graph (density uniform over all possible densities)\n",
      "[frozenset({'n18', 'n7', 'n14', 'n9', 'n3', 'n13', 'n2', 'n10', 'n15', 'n1', 'n4', 'n17', 'n8', 'n6', 'n0', 'n11', 'n16', 'n12', 'n5'})]\n",
      "Number of connected components : 1\n",
      "Size of connected components : [19]\n",
      "\n",
      "\n"
     ]
    }
   ],
   "source": [
    "print(\"Connex components of G\")\n",
    "C = G.connected_component()\n",
    "print(C)\n",
    "print(\"Number of connected components : \" + str(len(C)))\n",
    "print(\"Size of connected components : \" + str([len(s) for s in C]))\n",
    "print(\"\\n\")\n",
    "\n",
    "\n",
    "print(\"Connex components of a complete graph\")\n",
    "n = randrange(10,20)\n",
    "m = int(n*(n-1)/2)\n",
    "G1 = randgraph(n,m)\n",
    "C = G1.connected_component()\n",
    "print(C)\n",
    "print(\"Number of connected components : \" + str(len(C)))\n",
    "print(\"Size of connected components : \" + str([len(s) for s in C]))\n",
    "print('\\n')\n",
    "\n",
    "\n",
    "print(\"Connex components of a edgeless graph\")\n",
    "n = randrange(10,20)\n",
    "m = 0\n",
    "G1 = randgraph(n,m)\n",
    "C = G1.connected_component()\n",
    "print(C)\n",
    "print(\"Number of connected components : \" + str(len(C)))\n",
    "print(\"Size of connected components : \" + str([len(s) for s in C]))\n",
    "print(\"\\n\")\n",
    "\n",
    "\n",
    "print(\"Connex components of an empty graph\")\n",
    "G1 = g.Graph(dict())\n",
    "C = G1.connected_component()\n",
    "print(C)\n",
    "print(\"Number of connected components : \" + str(len(C)))\n",
    "print(\"Size of connected components : \" + str([len(s) for s in C]))\n",
    "print(\"\\n\")\n",
    "\n",
    "\n",
    "print(\"Connex components of a random graph (density uniform over all possible densities)\")\n",
    "n = randrange(10,20)\n",
    "m = randrange(n*(n-1)/2)\n",
    "G1 = randgraph(n,m)\n",
    "C = G1.connected_component()\n",
    "print(C)\n",
    "print(\"Number of connected components : \" + str(len(C)))\n",
    "print(\"Size of connected components : \" + str([len(s) for s in C]))\n",
    "print(\"\\n\")"
   ]
  },
  {
   "cell_type": "markdown",
   "metadata": {
    "collapsed": true
   },
   "source": [
    "Everything is OK."
   ]
  },
  {
   "cell_type": "markdown",
   "metadata": {
    "collapsed": true
   },
   "source": [
    "## 3.2 - Shortest path"
   ]
  },
  {
   "cell_type": "markdown",
   "metadata": {
    "collapsed": true
   },
   "source": [
    "A method returning as a dict of dicts the distance between all pairs of vertices. We use for this purpose a BFS algorithm. As we are not instructed to compute shortest pathes but only distance, I only keep track of the distance from the active origin node and not of each node's parent."
   ]
  },
  {
   "cell_type": "code",
   "execution_count": 24,
   "metadata": {
    "collapsed": true
   },
   "outputs": [],
   "source": [
    "    def shortest_path(self):\n",
    "        distances = dict()\n",
    "\n",
    "        ## Distances initialisation\n",
    "        for v1 in self.vertices():\n",
    "            distances[v1] = dict()\n",
    "            for v2 in self.vertices():\n",
    "                distances[v1][v2] = float(\"inf\")\n",
    "\n",
    "        ## definition of origin node for the BFS\n",
    "        for v_ini in self.vertices(): \n",
    "            d = 0\n",
    "            adj_vertices = set() ## vertices that are adjacent to the currently explored subset\n",
    "            adj_vertices.add(v_ini)\n",
    "\n",
    "            ## explore with BFS\n",
    "            while len(adj_vertices) > 0: \n",
    "                d_class = [v for v in adj_vertices] ## distance class\n",
    "                \n",
    "                ## vertices closest to origine are explored first\n",
    "                for v in d_class :\n",
    "                    distances[v_ini][v] = d\n",
    "                    adj_vertices.remove(v)\n",
    "                    \n",
    "                ## then we add their child to the adjacent set\n",
    "                for v1 in d_class :\n",
    "                    adj_vertices |= set([v2 for v2 in self.__graph_dict[v1] if distances[v_ini][v2] > d])\n",
    "                d+=1\n",
    "\n",
    "        return(distances)\n"
   ]
  },
  {
   "cell_type": "markdown",
   "metadata": {
    "collapsed": true
   },
   "source": [
    "We'll check that proper results are returned on G, and also that the output respects null distance to self, symmetry, and triangular inequality on a random graph. "
   ]
  },
  {
   "cell_type": "code",
   "execution_count": 25,
   "metadata": {},
   "outputs": [
    {
     "name": "stdout",
     "output_type": "stream",
     "text": [
      "Distances in G\n",
      "{'a': {'a': 0, 'b': 2, 'c': 1, 'd': 1, 'e': 2, 'f': 2, 'g': 1}, 'b': {'a': 2, 'b': 0, 'c': 1, 'd': 2, 'e': 3, 'f': 1, 'g': 3}, 'c': {'a': 1, 'b': 1, 'c': 0, 'd': 1, 'e': 2, 'f': 1, 'g': 2}, 'd': {'a': 1, 'b': 2, 'c': 1, 'd': 0, 'e': 1, 'f': 2, 'g': 1}, 'e': {'a': 2, 'b': 3, 'c': 2, 'd': 1, 'e': 0, 'f': 3, 'g': 2}, 'f': {'a': 2, 'b': 1, 'c': 1, 'd': 2, 'e': 3, 'f': 0, 'g': 3}, 'g': {'a': 1, 'b': 3, 'c': 2, 'd': 1, 'e': 2, 'f': 3, 'g': 0}}\n",
      "\n",
      "______________\n",
      "\n",
      "Distances computed in a random graph\n",
      "\n",
      "\n",
      "Is null distance to self respected ?\n",
      "Yes it is\n",
      "\n",
      "\n",
      "Is symmetry respected ?\n",
      "Yes it is\n",
      "\n",
      "\n",
      "Is triangular inequality respected ?\n",
      "Yes it is\n",
      "\n",
      "\n"
     ]
    }
   ],
   "source": [
    "print(\"Distances in G\")\n",
    "print(G.shortest_path())\n",
    "print(\"\\n______________\\n\")\n",
    "\n",
    "\n",
    "n = randrange(10,20)\n",
    "m = randrange(n*(n-1)/2)\n",
    "G1 = randgraph(n,m)\n",
    "dist = G1.shortest_path()\n",
    "print(\"Distances computed in a random graph\")\n",
    "print(\"\\n\")\n",
    "\n",
    "print(\"Is null distance to self respected ?\")\n",
    "result = \"Yes it is\"\n",
    "for v in G1.vertices():\n",
    "    if not dist[v][v] == 0:\n",
    "        result = \"No it is not\"\n",
    "        break\n",
    "print(result)\n",
    "print(\"\\n\")\n",
    "\n",
    "print(\"Is symmetry respected ?\")\n",
    "result = \"Yes it is\"\n",
    "for v1 in G1.vertices():\n",
    "    for v2 in G1.vertices():\n",
    "        if not (dist[v1][v2] == dist[v2][v1]):\n",
    "            result = \"No it is not\"\n",
    "            break\n",
    "print(result)\n",
    "print(\"\\n\")\n",
    "\n",
    "\n",
    "print(\"Is triangular inequality respected ?\")\n",
    "result = \"Yes it is\"\n",
    "for v1 in G1.vertices():\n",
    "    for v2 in G1.vertices():\n",
    "        for v3 in G1.vertices():\n",
    "            if (dist[v1][v2] > dist[v2][v3] + dist[v1][v3]):\n",
    "                result = \"No it is not\"\n",
    "                break\n",
    "print(result)\n",
    "print(\"\\n\")\n",
    "\n",
    "\n"
   ]
  },
  {
   "cell_type": "markdown",
   "metadata": {
    "collapsed": true
   },
   "source": [
    "I also checked consistency in the simple limit cases of empty, edgeless, and complete graphs, but for compacity's sake I'll ask you to trust me on this issue. "
   ]
  },
  {
   "cell_type": "markdown",
   "metadata": {
    "collapsed": true
   },
   "source": [
    "## 3.3 - Diameter"
   ]
  },
  {
   "cell_type": "markdown",
   "metadata": {
    "collapsed": true
   },
   "source": [
    "Two methods respectively computing the diameter and biggest component diameter of the graph. Knowing the preceding method, implementation really is straightforward."
   ]
  },
  {
   "cell_type": "code",
   "execution_count": 26,
   "metadata": {
    "collapsed": true
   },
   "outputs": [],
   "source": [
    "    def diameter(self):\n",
    "        d_max = 0\n",
    "        distances = self.shortest_path()\n",
    "        for v1 in self.vertices():\n",
    "            for v2 in self.vertices():\n",
    "                d_max = max(distances[v1][v2],d_max)        \n",
    "        return(d_max)\n",
    "                \n",
    "    def biggest_component_diameter(self):\n",
    "        d_max = 0\n",
    "        distances = self.shortest_path()\n",
    "        for v1 in self.vertices():\n",
    "            for v2 in self.vertices():\n",
    "                if float(\"inf\") > distances[v1][v2]:\n",
    "                    d_max = max(distances[v1][v2],d_max)        \n",
    "        return(d_max)"
   ]
  },
  {
   "cell_type": "markdown",
   "metadata": {
    "collapsed": true
   },
   "source": [
    "We'll test them both on G and on a custom disjoint graph"
   ]
  },
  {
   "cell_type": "code",
   "execution_count": 27,
   "metadata": {},
   "outputs": [
    {
     "name": "stdout",
     "output_type": "stream",
     "text": [
      "Diameter of G : 3\n",
      "\n",
      "Biggest connex component diameter of G : 3\n",
      "\n",
      "________________\n",
      "\n",
      "Let's define a custom non connex graph G1 from our randgraph method\n",
      "\n",
      "Diameter of G1 : inf\n",
      "\n",
      "Biggest connex component diameter of G1 : 5\n"
     ]
    }
   ],
   "source": [
    "print(\"Diameter of G : \" + str(G.diameter()) + \"\\n\")\n",
    "print(\"Biggest connex component diameter of G : \" + str(G.biggest_component_diameter()))\n",
    "print(\"\\n________________\\n\")\n",
    "\n",
    "\n",
    "print(\"Let's define a custom non connex graph G1 from our randgraph method\\n\")\n",
    "n1 = randrange(10,20)\n",
    "m1 = randrange(n1*(n1-1)/2)\n",
    "convex_component_1 = randgraph(n1,m1)\n",
    "\n",
    "n2 = randrange(10,20)\n",
    "m2 = randrange(n2*(n2-1)/2)\n",
    "convex_component_2 = randgraph(n2,m2,\"m\")\n",
    "\n",
    "G1 = g.Graph(dict())\n",
    "for v in (convex_component_1.vertices()+convex_component_2.vertices()):\n",
    "    G1.add_vertex(v)\n",
    "for e in (convex_component_1.edges()+convex_component_2.edges()):\n",
    "    G1.add_edge(e)\n",
    "\n",
    "print(\"Diameter of G1 : \" + str(G1.diameter()) + \"\\n\")\n",
    "print(\"Biggest connex component diameter of G1 : \" + str(G1.biggest_component_diameter()))\n"
   ]
  },
  {
   "cell_type": "markdown",
   "metadata": {
    "collapsed": true
   },
   "source": [
    "We got the expected results, the methods seem to be working."
   ]
  },
  {
   "cell_type": "markdown",
   "metadata": {
    "collapsed": true
   },
   "source": [
    "## 3.4 - Spanning tree"
   ]
  },
  {
   "cell_type": "markdown",
   "metadata": {
    "collapsed": true
   },
   "source": [
    "I implement the slightly more general method of spanning forests, which is equivalent in the case of a connected graph. Unlike the case of distances computation, we need to keep track of the parent of each node while we search it.\n",
    "\n",
    "The method is designed to return a new graph rather than modify the input."
   ]
  },
  {
   "cell_type": "code",
   "execution_count": 28,
   "metadata": {
    "collapsed": true
   },
   "outputs": [],
   "source": [
    "    def spanning_forest(self):\n",
    "        ## Initialisation of the spanning forest as a new graph\n",
    "        spanning_forest = Graph(dict())\n",
    "        \n",
    "        \n",
    "        while [v for v in self.vertices() if v not in spanning_forest.vertices()]:\n",
    "            \n",
    "            ## Initialisation of a new connected component\n",
    "            v_ini = [v for v in self.vertices() if v not in spanning_forest.vertices()][0] # Current spanning tree's central vertex\n",
    "            spanning_forest.add_vertex(v_ini)\n",
    "            v_frontier = [v_ini] # list of current spanning trees elements whose neighbours have not been explored yet\n",
    "\n",
    "            ## Each frontier node is used to explore its neighbours. Then it is removed from frontier nodes.\n",
    "            while v_frontier:\n",
    "                v1 = v_frontier[0]\n",
    "                v1_childs = [v for v in self.__graph_dict[v1] if v not in spanning_forest.vertices()]\n",
    "                v_frontier.remove(v1)\n",
    "\n",
    "                ## Each explored node is added to the spanning tree, as well as its parent edge\n",
    "                for v2 in v1_childs :\n",
    "                    spanning_forest.add_vertex(v2)\n",
    "                    spanning_forest.add_edge([v1,v2])\n",
    "                    v_frontier.append(v2)\n",
    "\n",
    "        return(spanning_forest)\n"
   ]
  },
  {
   "cell_type": "markdown",
   "metadata": {
    "collapsed": true
   },
   "source": [
    "Let's test it on a random graph. We expect a spanning forest to have the same connected components as its origin graph, and as many edge as vertices number minus connected components number. Because of trees duality properties, it is enough to test the validity of a spanning forest."
   ]
  },
  {
   "cell_type": "code",
   "execution_count": 29,
   "metadata": {},
   "outputs": [
    {
     "name": "stdout",
     "output_type": "stream",
     "text": [
      "We build a number of random graph and its random forest\n",
      "\n",
      "\n",
      "\n",
      "New graph built !\n",
      "Is the random graph connected ? True\n",
      "Are connected components identical ? True\n",
      "Is there the correct number of edges in the forest ? True\n",
      "\n",
      "New graph built !\n",
      "Is the random graph connected ? True\n",
      "Are connected components identical ? True\n",
      "Is there the correct number of edges in the forest ? True\n",
      "\n",
      "New graph built !\n",
      "Is the random graph connected ? True\n",
      "Are connected components identical ? True\n",
      "Is there the correct number of edges in the forest ? True\n",
      "\n",
      "New graph built !\n",
      "Is the random graph connected ? True\n",
      "Are connected components identical ? True\n",
      "Is there the correct number of edges in the forest ? True\n",
      "\n",
      "New graph built !\n",
      "Is the random graph connected ? False\n",
      "Are connected components identical ? True\n",
      "Is there the correct number of edges in the forest ? True\n",
      "\n",
      "New graph built !\n",
      "Is the random graph connected ? False\n",
      "Are connected components identical ? True\n",
      "Is there the correct number of edges in the forest ? True\n",
      "\n",
      "New graph built !\n",
      "Is the random graph connected ? True\n",
      "Are connected components identical ? True\n",
      "Is there the correct number of edges in the forest ? True\n",
      "\n",
      "New graph built !\n",
      "Is the random graph connected ? True\n",
      "Are connected components identical ? True\n",
      "Is there the correct number of edges in the forest ? True\n",
      "\n",
      "New graph built !\n",
      "Is the random graph connected ? True\n",
      "Are connected components identical ? True\n",
      "Is there the correct number of edges in the forest ? True\n",
      "\n",
      "New graph built !\n",
      "Is the random graph connected ? True\n",
      "Are connected components identical ? True\n",
      "Is there the correct number of edges in the forest ? True\n"
     ]
    }
   ],
   "source": [
    "print(\"We build a number of random graph and its random forest\\n\\n\")\n",
    "\n",
    "for i in range(10):\n",
    "    n = randrange(10,20)\n",
    "    m = randrange(n*(n-1)/2)\n",
    "    G1 = randgraph(n,m)\n",
    "    T1 = G1.spanning_forest()\n",
    "    \n",
    "\n",
    "    print(\"\\nNew graph built !\")\n",
    "    print(\"Is the random graph connected ? \" + str(len(G1.connected_component())==1))\n",
    "    print(\"Are connected components identical ? \" + str(set(G1.connected_component()) == set(T1.connected_component())))\n",
    "    print(\"Is there the correct number of edges in the forest ? \" + str(len(T1.edges()) == len(T1.vertices())-len(T1.connected_component())))"
   ]
  },
  {
   "cell_type": "markdown",
   "metadata": {
    "collapsed": true
   },
   "source": [
    "We can see that the algorithm works in both connected and disconnected cases."
   ]
  },
  {
   "cell_type": "markdown",
   "metadata": {
    "collapsed": true
   },
   "source": [
    "# 4 - Testing on real datasets"
   ]
  },
  {
   "cell_type": "markdown",
   "metadata": {
    "collapsed": true
   },
   "source": [
    "## 4.1 - Importing real data"
   ]
  },
  {
   "cell_type": "markdown",
   "metadata": {
    "collapsed": true
   },
   "source": [
    "A function loading a graph from a filename. Implementation is straightforward from the nunpy.loadtxt function. The file must be in the same directory as the notebook (or a filepath must be specified)"
   ]
  },
  {
   "cell_type": "code",
   "execution_count": 30,
   "metadata": {
    "collapsed": true
   },
   "outputs": [],
   "source": [
    "def graph_load(filename):\n",
    "        G1 = g.Graph(dict())\n",
    "        data = loadtxt(filename)\n",
    "        \n",
    "        for e in data :\n",
    "            if str(e[0]) not in G1.vertices():\n",
    "                G1.add_vertex(str(e[0]))\n",
    "            if str(e[1]) not in G1.vertices():\n",
    "                G1.add_vertex(str(e[1]))\n",
    "            G1.add_edge([str(e[0]),str(e[1])])\n",
    "        return(G1)"
   ]
  },
  {
   "cell_type": "code",
   "execution_count": 31,
   "metadata": {},
   "outputs": [
    {
     "name": "stdout",
     "output_type": "stream",
     "text": [
      "Loading Zachary...\n",
      "\n",
      "Loading random, n = 100...\n",
      "The edge ['5.0', '14.0'] already existed\n",
      "The edge ['22.0', '13.0'] already existed\n",
      "The edge ['17.0', '23.0'] already existed\n",
      "The edge ['30.0', '3.0'] already existed\n",
      "The edge ['34.0', '25.0'] already existed\n",
      "The edge ['31.0', '35.0'] already existed\n",
      "The edge ['16.0', '37.0'] already existed\n",
      "The edge ['44.0', '38.0'] already existed\n",
      "The edge ['15.0', '47.0'] already existed\n",
      "The edge ['48.0', '20.0'] already existed\n",
      "The edge ['34.0', '49.0'] already existed\n",
      "The edge ['50.0', '27.0'] already existed\n",
      "The edge ['1.0', '56.0'] already existed\n",
      "The edge ['58.0', '33.0'] already existed\n",
      "The edge ['56.0', '59.0'] already existed\n",
      "The edge ['45.0', '61.0'] already existed\n",
      "The edge ['61.0', '52.0'] already existed\n",
      "The edge ['45.0', '62.0'] already existed\n",
      "The edge ['34.0', '67.0'] already existed\n",
      "The edge ['39.0', '67.0'] already existed\n",
      "The edge ['69.0', '25.0'] already existed\n",
      "The edge ['69.0', '47.0'] already existed\n",
      "The edge ['28.0', '71.0'] already existed\n",
      "The edge ['72.0', '60.0'] already existed\n",
      "The edge ['73.0', '62.0'] already existed\n",
      "The edge ['34.0', '74.0'] already existed\n",
      "The edge ['8.0', '77.0'] already existed\n",
      "The edge ['79.0', '77.0'] already existed\n",
      "The edge ['81.0', '10.0'] already existed\n",
      "The edge ['19.0', '86.0'] already existed\n",
      "The edge ['88.0', '23.0'] already existed\n",
      "The edge ['89.0', '65.0'] already existed\n",
      "The edge ['33.0', '91.0'] already existed\n",
      "The edge ['15.0', '92.0'] already existed\n",
      "The edge ['93.0', '64.0'] already existed\n",
      "The edge ['12.0', '95.0'] already existed\n",
      "The edge ['97.0', '20.0'] already existed\n",
      "The edge ['97.0', '77.0'] already existed\n",
      "The edge ['98.0', '51.0'] already existed\n",
      "The edge ['99.0', '78.0'] already existed\n",
      "\n",
      "Loading random, n = 1000...\n",
      "The edge ['441.0', '127.0'] already existed\n",
      "The edge ['503.0', '421.0'] already existed\n",
      "The edge ['425.0', '669.0'] already existed\n",
      "The edge ['675.0', '24.0'] already existed\n",
      "The edge ['648.0', '704.0'] already existed\n",
      "The edge ['593.0', '706.0'] already existed\n",
      "The edge ['707.0', '414.0'] already existed\n",
      "The edge ['723.0', '617.0'] already existed\n",
      "The edge ['900.0', '217.0'] already existed\n",
      "The edge ['340.0', '904.0'] already existed\n",
      "The edge ['937.0', '9.0'] already existed\n"
     ]
    }
   ],
   "source": [
    "print(\"Loading Zachary...\")\n",
    "zachary = graph_load(\"zachary_connected.txt\")\n",
    "\n",
    "print(\"\\nLoading random, n = 100...\")\n",
    "random100 = graph_load(\"graph_100n_1000m.txt\")\n",
    "\n",
    "print(\"\\nLoading random, n = 1000...\")\n",
    "random1000 = graph_load(\"graph_1000n_4000m.txt\")\n"
   ]
  },
  {
   "cell_type": "markdown",
   "metadata": {},
   "source": [
    "As of now, doublons in the data cause warning messages to be displayed. To avoid this would take either a cleanup of the data (unjustified as this is, in our case, a minor inconveniance) or a check during the adding of an edge (which would cause the code to be m^2 complex, slowing it down significantly).\n",
    "\n",
    "Note that I coded a check during the adding of a vertex, as there are significantly more doublons in vertices than in edges, and as n^2 << m^2.\n",
    "\n",
    "Let's check now that our import was correct in the Zachary case."
   ]
  },
  {
   "cell_type": "code",
   "execution_count": 32,
   "metadata": {},
   "outputs": [
    {
     "name": "stdout",
     "output_type": "stream",
     "text": [
      "['2.0', '0.0', '3.0', '1.0', '4.0', '5.0', '6.0', '7.0', '8.0', '9.0', '10.0', '11.0', '12.0', '13.0', '14.0', '17.0', '18.0', '20.0', '22.0', '26.0', '23.0', '24.0', '28.0', '29.0', '30.0', '31.0', '32.0', '25.0', '33.0', '15.0', '34.0', '19.0', '27.0']\n",
      "[{'31.0', '33.0'}, {'7.0', '4.0'}, {'1.0', '22.0'}, {'34.0', '26.0'}, {'18.0', '1.0'}, {'0.0', '13.0'}, {'5.0', '17.0'}, {'0.0', '8.0'}, {'31.0', '8.0'}, {'33.0', '23.0'}, {'18.0', '33.0'}, {'30.0', '33.0'}, {'32.0', '0.0'}, {'0.0', '18.0'}, {'14.0', '3.0'}, {'34.0', '20.0'}, {'0.0', '22.0'}, {'32.0', '24.0'}, {'0.0', '9.0'}, {'2.0', '10.0'}, {'5.0', '11.0'}, {'32.0', '28.0'}, {'34.0', '27.0'}, {'0.0', '3.0'}, {'15.0', '34.0'}, {'26.0', '23.0'}, {'7.0', '0.0'}, {'28.0', '34.0'}, {'31.0', '34.0'}, {'32.0', '25.0'}, {'1.0', '4.0'}, {'11.0', '4.0'}, {'8.0', '33.0'}, {'28.0', '23.0'}, {'26.0', '24.0'}, {'0.0', '12.0'}, {'20.0', '1.0'}, {'34.0', '14.0'}, {'33.0', '29.0'}, {'0.0', '11.0'}, {'8.0', '2.0'}, {'30.0', '26.0'}, {'8.0', '1.0'}, {'34.0', '29.0'}, {'0.0', '6.0'}, {'13.0', '3.0'}, {'20.0', '33.0'}, {'28.0', '24.0'}, {'2.0', '9.0'}, {'34.0', '22.0'}, {'7.0', '5.0'}, {'30.0', '34.0'}, {'34.0', '19.0'}, {'17.0', '6.0'}, {'0.0', '4.0'}, {'2.0', '33.0'}, {'34.0', '13.0'}, {'30.0', '23.0'}, {'34.0', '8.0'}, {'34.0', '23.0'}, {'2.0', '4.0'}, {'0.0', '20.0'}, {'1.0', '14.0'}, {'0.0', '14.0'}, {'34.0', '18.0'}, {'32.0', '34.0'}, {'34.0', '9.0'}, {'15.0', '33.0'}, {'0.0', '2.0'}, {'28.0', '2.0'}, {'8.0', '3.0'}, {'31.0', '1.0'}, {'14.0', '33.0'}, {'22.0', '33.0'}, {'2.0', '29.0'}, {'1.0', '3.0'}, {'2.0', '14.0'}, {'5.0', '0.0'}]\n"
     ]
    }
   ],
   "source": [
    "print(zachary.vertices())\n",
    "print(zachary.edges())"
   ]
  },
  {
   "cell_type": "markdown",
   "metadata": {},
   "source": [
    "A visual check allow us to conclude that the import was correct."
   ]
  },
  {
   "cell_type": "markdown",
   "metadata": {
    "collapsed": true
   },
   "source": [
    "## 4.2 - Properties of supplied graphs"
   ]
  },
  {
   "cell_type": "markdown",
   "metadata": {
    "collapsed": true
   },
   "source": [
    "As I couldn't find a ready-to-use table library for Python, we'll do with a slightly more primitive data display."
   ]
  },
  {
   "cell_type": "code",
   "execution_count": 33,
   "metadata": {},
   "outputs": [
    {
     "name": "stdout",
     "output_type": "stream",
     "text": [
      "dataset  |  vertices nb  | edges nb  |  density  |  diameter  |  clustering coefficient\n",
      "\n",
      "Zachary  |  33  |  78  |  0.14772727272727273  |  5  |  0.0574468085106383\n",
      "random100  |  100  |  960  |  0.19393939393939394  |  3  |  0.07372662595227601\n",
      "random1000  |  1000  |  3989  |  0.007985985985985987  |  6  |  0.002343552064859387\n"
     ]
    }
   ],
   "source": [
    "print(\"dataset  |  vertices nb  | edges nb  |  density  |  diameter  |  clustering coefficient\\n\")\n",
    "\n",
    "print(\"Zachary\" + \"  |  \" + str(len(zachary.vertices())) + \"  |  \" + str(len(zachary.edges())) + \"  |  \" + str(zachary.density()) + \"  |  \" + str(zachary.diameter()) + \"  |  \" + str(zachary.global_clustering_coefficient()))\n",
    "print(\"random100\" + \"  |  \" + str(len(random100.vertices())) + \"  |  \" + str(len(random100.edges())) + \"  |  \" + str(random100.density()) + \"  |  \" + str(random100.diameter()) + \"  |  \" + str(random100.global_clustering_coefficient()))\n",
    "print(\"random1000\" + \"  |  \" + str(len(random1000.vertices())) + \"  |  \" + str(len(random1000.edges())) + \"  |  \" + str(random1000.density()) + \"  |  \" + str(random1000.diameter()) + \"  |  \" + str(random1000.global_clustering_coefficient()))\n"
   ]
  },
  {
   "cell_type": "markdown",
   "metadata": {},
   "source": [
    "A discrepancy can be found in the number of edges for both random graphs, but it is due to the doublons in the data."
   ]
  }
 ],
 "metadata": {
  "kernelspec": {
   "display_name": "Python 3",
   "language": "python",
   "name": "python3"
  },
  "language_info": {
   "codemirror_mode": {
    "name": "ipython",
    "version": 3
   },
   "file_extension": ".py",
   "mimetype": "text/x-python",
   "name": "python",
   "nbconvert_exporter": "python",
   "pygments_lexer": "ipython3",
   "version": "3.6.1"
  }
 },
 "nbformat": 4,
 "nbformat_minor": 1
}
